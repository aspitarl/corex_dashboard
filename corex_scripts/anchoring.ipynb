{
 "cells": [
  {
   "cell_type": "raw",
   "metadata": {},
   "source": []
  },
  {
   "cell_type": "code",
   "execution_count": 1,
   "metadata": {},
   "outputs": [],
   "source": [
    "import pandas as pd\r\n",
    "import pickle\r\n",
    "\r\n",
    "import os\r\n",
    "import numpy as np\r\n",
    "import sys\r\n",
    "import gensim\r\n",
    "import matplotlib.pyplot as plt\r\n",
    "sys.path.append(r'C:\\Users\\aspit\\Git\\MHDLab-Projects\\Energy Storage\\nlp_utils')\r\n",
    "\r\n",
    "%matplotlib inline\r\n",
    "\r\n",
    "from nlp_utils import gensim_utils, sklearn_utils, fileio\r\n",
    "\r\n",
    "data_folder = r'C:\\Users\\aspit\\Git\\MHDLab-Projects\\Energy Storage\\data'\r\n",
    "db_path = os.path.join(data_folder, 'nlp_search3.db')\r\n",
    "\r\n",
    "df_text = fileio.load_df(db_path)\r\n",
    "\r\n",
    "# df = df.sample(500, random_state=42)\r\n",
    "\r\n",
    "# text = df['processed_text'].values\r\n",
    "texts = df_text['processed_text'].values\r\n",
    "\r\n",
    "import gensim\r\n",
    "\r\n",
    "texts = [t.split() for t in texts]\r\n",
    "bigram = gensim.models.Phrases(texts, threshold=20, min_count=10)\r\n",
    "bigram_mod = gensim.models.phrases.Phraser(bigram)\r\n",
    "\r\n",
    "texts_bigram = [bigram_mod[doc] for doc in texts]\r\n",
    "\r\n",
    "texts = [\" \".join(t) for t in texts_bigram]\r\n",
    "\r\n",
    "from sklearn.feature_extraction.text import CountVectorizer\r\n",
    "\r\n",
    "# maxx_features = 2**12\r\n",
    "vectorizer = CountVectorizer(max_features=None, min_df=2, max_df = 0.9)\r\n",
    "X = vectorizer.fit_transform(texts)\r\n",
    "\r\n",
    "feature_names = vectorizer.get_feature_names()"
   ]
  },
  {
   "cell_type": "code",
   "execution_count": 7,
   "metadata": {},
   "outputs": [
    {
     "data": {
      "text/html": "<div>\n<style scoped>\n    .dataframe tbody tr th:only-of-type {\n        vertical-align: middle;\n    }\n\n    .dataframe tbody tr th {\n        vertical-align: top;\n    }\n\n    .dataframe thead th {\n        text-align: right;\n    }\n</style>\n<table border=\"1\" class=\"dataframe\">\n  <thead>\n    <tr style=\"text-align: right;\">\n      <th></th>\n      <th>processed_text</th>\n      <th>language</th>\n      <th>index</th>\n      <th>title</th>\n      <th>raw_text</th>\n      <th>journal</th>\n      <th>DOI</th>\n      <th>url</th>\n      <th>searchterm</th>\n      <th>Year</th>\n      <th>prob</th>\n      <th>logprob</th>\n    </tr>\n    <tr>\n      <th>ID</th>\n      <th></th>\n      <th></th>\n      <th></th>\n      <th></th>\n      <th></th>\n      <th></th>\n      <th></th>\n      <th></th>\n      <th></th>\n      <th></th>\n      <th></th>\n      <th></th>\n    </tr>\n  </thead>\n  <tbody>\n    <tr>\n      <th>0</th>\n      <td>thermal phase change material application late...</td>\n      <td>en</td>\n      <td>0</td>\n      <td>review on thermal energy storage with phase ch...</td>\n      <td>latent heat storage system phase change materi...</td>\n      <td>renewable &amp; sustainable energy reviews</td>\n      <td>10.1016/J.RSER.2007.10.005</td>\n      <td>https://econpapers.repec.org/article/eeerensus...</td>\n      <td>Thermal Energy Storage</td>\n      <td>2009</td>\n      <td>1.523630e-07</td>\n      <td>-15.697</td>\n    </tr>\n    <tr>\n      <th>1</th>\n      <td>thermal phase change material heat transfer an...</td>\n      <td>en</td>\n      <td>1</td>\n      <td>review on thermal energy storage with phase ch...</td>\n      <td>thermal energy storage general phase change ma...</td>\n      <td>applied thermal engineering</td>\n      <td>10.1016/S1359-4311(02)00192-8</td>\n      <td>https://ci.nii.ac.jp/naid/80015725667</td>\n      <td>Thermal Energy Storage</td>\n      <td>2003</td>\n      <td>1.148085e-07</td>\n      <td>-15.980</td>\n    </tr>\n    <tr>\n      <th>2</th>\n      <td>electrical system critical electrical technolo...</td>\n      <td>en</td>\n      <td>2</td>\n      <td>progress in electrical energy storage system a...</td>\n      <td>electrical energy storage technologies station...</td>\n      <td>progress in natural science</td>\n      <td>10.1016/J.PNSC.2008.07.014</td>\n      <td>http://promexico.me/Rubenius/WhitePapers/sdart...</td>\n      <td>Thermal Energy Storage</td>\n      <td>2009</td>\n      <td>9.852062e-08</td>\n      <td>-16.133</td>\n    </tr>\n    <tr>\n      <th>3</th>\n      <td>phase change material application latent heat ...</td>\n      <td>en</td>\n      <td>3</td>\n      <td>a review on phase change energy storage materi...</td>\n      <td>latent heat storage one efficient ways storing...</td>\n      <td>energy conversion and management</td>\n      <td>10.1016/J.ENCONMAN.2003.09.015</td>\n      <td>https://www.infona.pl/resource/bwmeta1.element...</td>\n      <td>Thermal Energy Storage</td>\n      <td>2004</td>\n      <td>6.839268e-08</td>\n      <td>-16.498</td>\n    </tr>\n    <tr>\n      <th>4</th>\n      <td>solar engineering thermal process fundamental ...</td>\n      <td>en</td>\n      <td>4</td>\n      <td>solar engineering of thermal processes</td>\n      <td>fundamentals solar radiation selected heat tra...</td>\n      <td>nan</td>\n      <td>nan</td>\n      <td>http://ci.nii.ac.jp/ncid/BA25372541</td>\n      <td>Thermal Energy Storage</td>\n      <td>1980</td>\n      <td>6.102392e-08</td>\n      <td>-16.612</td>\n    </tr>\n    <tr>\n      <th>...</th>\n      <td>...</td>\n      <td>...</td>\n      <td>...</td>\n      <td>...</td>\n      <td>...</td>\n      <td>...</td>\n      <td>...</td>\n      <td>...</td>\n      <td>...</td>\n      <td>...</td>\n      <td>...</td>\n      <td>...</td>\n    </tr>\n    <tr>\n      <th>25219</th>\n      <td>underground pumped hydroelectric uphs program ...</td>\n      <td>en</td>\n      <td>25219</td>\n      <td>underground pumped hydroelectric storage uphs ...</td>\n      <td>argonne national laboratory underground pumped...</td>\n      <td>nan</td>\n      <td>10.2172/5512239</td>\n      <td>http://www.osti.gov/servlets/purl/5512239</td>\n      <td>Pumped Hydro Energy Storage</td>\n      <td>1979</td>\n      <td>6.473000e-13</td>\n      <td>-28.066</td>\n    </tr>\n    <tr>\n      <th>25222</th>\n      <td>evaluation advanced hydraulic turbomachinery u...</td>\n      <td>en</td>\n      <td>25222</td>\n      <td>evaluation of advanced hydraulic turbomachiner...</td>\n      <td>high head large capacity turbomachinery needed...</td>\n      <td>nan</td>\n      <td>10.2172/5079875</td>\n      <td>https://www.osti.gov/scitech/servlets/purl/507...</td>\n      <td>Pumped Hydro Energy Storage</td>\n      <td>1979</td>\n      <td>6.345000e-13</td>\n      <td>-28.086</td>\n    </tr>\n    <tr>\n      <th>25223</th>\n      <td>study certain economic aspect turbomachinery u...</td>\n      <td>en</td>\n      <td>25223</td>\n      <td>study of certain economic aspects of turbomach...</td>\n      <td>economics underground pumped hydroelectric sto...</td>\n      <td>nan</td>\n      <td>10.2172/7078705</td>\n      <td>http://www.osti.gov/scitech/biblio/7078705-stu...</td>\n      <td>Pumped Hydro Energy Storage</td>\n      <td>1979</td>\n      <td>6.345000e-13</td>\n      <td>-28.086</td>\n    </tr>\n    <tr>\n      <th>25227</th>\n      <td>siting potential compressed air underground pu...</td>\n      <td>en</td>\n      <td>25227</td>\n      <td>siting potential for compressed air and underg...</td>\n      <td>paper broad geological categorization continen...</td>\n      <td>nan</td>\n      <td>10.1016/B978-1-4832-8406-4.50025-7</td>\n      <td>https://www.sciencedirect.com/science/article/...</td>\n      <td>Pumped Hydro Energy Storage</td>\n      <td>1978</td>\n      <td>5.718000e-13</td>\n      <td>-28.190</td>\n    </tr>\n    <tr>\n      <th>25231</th>\n      <td>simulation model wind system volume ii operati...</td>\n      <td>en</td>\n      <td>25231</td>\n      <td>simulation model for wind energy storage syste...</td>\n      <td>effort developed comprehensive computer progra...</td>\n      <td>nan</td>\n      <td>10.2172/5011983</td>\n      <td>https://www.osti.gov/scitech/servlets/purl/501...</td>\n      <td>Pumped Hydro Energy Storage</td>\n      <td>1977</td>\n      <td>5.215000e-13</td>\n      <td>-28.282</td>\n    </tr>\n  </tbody>\n</table>\n<p>17091 rows × 12 columns</p>\n</div>",
      "text/plain": "                                          processed_text language  index  \\\nID                                                                         \n0      thermal phase change material application late...       en      0   \n1      thermal phase change material heat transfer an...       en      1   \n2      electrical system critical electrical technolo...       en      2   \n3      phase change material application latent heat ...       en      3   \n4      solar engineering thermal process fundamental ...       en      4   \n...                                                  ...      ...    ...   \n25219  underground pumped hydroelectric uphs program ...       en  25219   \n25222  evaluation advanced hydraulic turbomachinery u...       en  25222   \n25223  study certain economic aspect turbomachinery u...       en  25223   \n25227  siting potential compressed air underground pu...       en  25227   \n25231  simulation model wind system volume ii operati...       en  25231   \n\n                                                   title  \\\nID                                                         \n0      review on thermal energy storage with phase ch...   \n1      review on thermal energy storage with phase ch...   \n2      progress in electrical energy storage system a...   \n3      a review on phase change energy storage materi...   \n4                 solar engineering of thermal processes   \n...                                                  ...   \n25219  underground pumped hydroelectric storage uphs ...   \n25222  evaluation of advanced hydraulic turbomachiner...   \n25223  study of certain economic aspects of turbomach...   \n25227  siting potential for compressed air and underg...   \n25231  simulation model for wind energy storage syste...   \n\n                                                raw_text  \\\nID                                                         \n0      latent heat storage system phase change materi...   \n1      thermal energy storage general phase change ma...   \n2      electrical energy storage technologies station...   \n3      latent heat storage one efficient ways storing...   \n4      fundamentals solar radiation selected heat tra...   \n...                                                  ...   \n25219  argonne national laboratory underground pumped...   \n25222  high head large capacity turbomachinery needed...   \n25223  economics underground pumped hydroelectric sto...   \n25227  paper broad geological categorization continen...   \n25231  effort developed comprehensive computer progra...   \n\n                                      journal  \\\nID                                              \n0      renewable & sustainable energy reviews   \n1                 applied thermal engineering   \n2                 progress in natural science   \n3            energy conversion and management   \n4                                         nan   \n...                                       ...   \n25219                                     nan   \n25222                                     nan   \n25223                                     nan   \n25227                                     nan   \n25231                                     nan   \n\n                                      DOI  \\\nID                                          \n0              10.1016/J.RSER.2007.10.005   \n1           10.1016/S1359-4311(02)00192-8   \n2              10.1016/J.PNSC.2008.07.014   \n3          10.1016/J.ENCONMAN.2003.09.015   \n4                                     nan   \n...                                   ...   \n25219                     10.2172/5512239   \n25222                     10.2172/5079875   \n25223                     10.2172/7078705   \n25227  10.1016/B978-1-4832-8406-4.50025-7   \n25231                     10.2172/5011983   \n\n                                                     url  \\\nID                                                         \n0      https://econpapers.repec.org/article/eeerensus...   \n1                  https://ci.nii.ac.jp/naid/80015725667   \n2      http://promexico.me/Rubenius/WhitePapers/sdart...   \n3      https://www.infona.pl/resource/bwmeta1.element...   \n4                    http://ci.nii.ac.jp/ncid/BA25372541   \n...                                                  ...   \n25219          http://www.osti.gov/servlets/purl/5512239   \n25222  https://www.osti.gov/scitech/servlets/purl/507...   \n25223  http://www.osti.gov/scitech/biblio/7078705-stu...   \n25227  https://www.sciencedirect.com/science/article/...   \n25231  https://www.osti.gov/scitech/servlets/purl/501...   \n\n                        searchterm  Year          prob  logprob  \nID                                                               \n0           Thermal Energy Storage  2009  1.523630e-07  -15.697  \n1           Thermal Energy Storage  2003  1.148085e-07  -15.980  \n2           Thermal Energy Storage  2009  9.852062e-08  -16.133  \n3           Thermal Energy Storage  2004  6.839268e-08  -16.498  \n4           Thermal Energy Storage  1980  6.102392e-08  -16.612  \n...                            ...   ...           ...      ...  \n25219  Pumped Hydro Energy Storage  1979  6.473000e-13  -28.066  \n25222  Pumped Hydro Energy Storage  1979  6.345000e-13  -28.086  \n25223  Pumped Hydro Energy Storage  1979  6.345000e-13  -28.086  \n25227  Pumped Hydro Energy Storage  1978  5.718000e-13  -28.190  \n25231  Pumped Hydro Energy Storage  1977  5.215000e-13  -28.282  \n\n[17091 rows x 12 columns]"
     },
     "execution_count": 7,
     "metadata": {},
     "output_type": "execute_result"
    }
   ],
   "source": [
    "df_text"
   ]
  },
  {
   "cell_type": "code",
   "execution_count": 2,
   "metadata": {},
   "outputs": [
    {
     "data": {
      "text/plain": "['supercapacitor',\n 'smes',\n 'lead_acid',\n 'lithium_ion',\n 'redox_flow',\n 'pumped_hydro',\n ['compressed_air', 'advanced_adiabatic', 'diabatic'],\n 'laes',\n 'flywheel',\n 'hydrogen',\n ['methanol', 'ammonia', 'p2g'],\n 'sensible_heat',\n 'latent_heat',\n 'thermochemical',\n ['heat_pump', 'ptes']]"
     },
     "execution_count": 2,
     "metadata": {},
     "output_type": "execute_result"
    }
   ],
   "source": [
    "\r\n",
    "with open('anchor_tech.txt') as f:\r\n",
    "    anchor_tech = f.read().splitlines()\r\n",
    "\r\n",
    "# with open('anchor_storage.txt') as f:\r\n",
    "#     anchor_storage = f.read().splitlines()\r\n",
    "\r\n",
    "\r\n",
    "# anchors = [*anchor_tech, *anchor_storage]\r\n",
    "anchors = anchor_tech\r\n",
    "\r\n",
    "anchors = [i.split() for i in anchors]\r\n",
    "anchors = [i[0] if len(i) == 1 else i for i in anchors ]\r\n",
    "# anchors = [i[0] for i in anchors ]\r\n",
    "\r\n",
    "anchors\r\n"
   ]
  },
  {
   "cell_type": "code",
   "execution_count": 3,
   "metadata": {},
   "outputs": [
    {
     "data": {
      "text/plain": "<corextopic.corextopic.Corex at 0x22e257745c8>"
     },
     "execution_count": 3,
     "metadata": {},
     "output_type": "execute_result"
    }
   ],
   "source": [
    "\r\n",
    "from corextopic import corextopic as ct\r\n",
    "\r\n",
    "# n_layers = int(len(anchor)*2)\r\n",
    "n_layers = len(anchors) + 5\r\n",
    "\r\n",
    "topic_model = ct.Corex(n_hidden=n_layers)  # Define the number of latent (hidden) topics to use.\r\n",
    "topic_model.fit(X, words=feature_names, docs=None, anchors=anchors, anchor_strength=5)"
   ]
  },
  {
   "cell_type": "code",
   "execution_count": 4,
   "metadata": {},
   "outputs": [],
   "source": [
    "topic_words = []\r\n",
    "\r\n",
    "topics = topic_model.get_topics()\r\n",
    "for topic_n,topic in enumerate(topics):\r\n",
    "    words,mis = zip(*topic)\r\n",
    "    topic_words.append(\", \".join(words))\r\n",
    "\r\n",
    "topic_keywords = pd.Series(topic_words, name='topic words')\r\n",
    "topic_keywords.to_csv('output/topic_keywords.csv')\r\n"
   ]
  },
  {
   "cell_type": "code",
   "execution_count": 8,
   "metadata": {},
   "outputs": [
    {
     "data": {
      "text/plain": "[]"
     },
     "execution_count": 8,
     "metadata": {},
     "output_type": "execute_result"
    }
   ],
   "source": [
    "top_docs = []\r\n",
    "for topic_n,topic in enumerate(top_docs):\r\n",
    "    words,mis = zip(*topic)\r\n",
    "    top_docs.append(words)\r\n",
    "\r\n",
    "top_docs"
   ]
  },
  {
   "cell_type": "code",
   "execution_count": 82,
   "metadata": {},
   "outputs": [
    {
     "data": {
      "text/html": "<div>\n<style scoped>\n    .dataframe tbody tr th:only-of-type {\n        vertical-align: middle;\n    }\n\n    .dataframe tbody tr th {\n        vertical-align: top;\n    }\n\n    .dataframe thead th {\n        text-align: right;\n    }\n</style>\n<table border=\"1\" class=\"dataframe\">\n  <thead>\n    <tr style=\"text-align: right;\">\n      <th></th>\n      <th>anchor words</th>\n      <th>topic words</th>\n    </tr>\n  </thead>\n  <tbody>\n    <tr>\n      <th>0</th>\n      <td>supercapacitor</td>\n      <td>supercapacitor, device, hybrid, charge, capaci...</td>\n    </tr>\n    <tr>\n      <th>1</th>\n      <td>smes</td>\n      <td>smes, superconducting, coil, superconducting_m...</td>\n    </tr>\n    <tr>\n      <th>2</th>\n      <td>lead_acid</td>\n      <td>technology, lead_acid, future, battery, develo...</td>\n    </tr>\n    <tr>\n      <th>3</th>\n      <td>lithium_ion</td>\n      <td>electrode, lithium_ion, electrochemical, speci...</td>\n    </tr>\n    <tr>\n      <th>4</th>\n      <td>redox_flow</td>\n      <td>flexible, redox_flow, electronic, solid_state,...</td>\n    </tr>\n    <tr>\n      <th>5</th>\n      <td>pumped_hydro</td>\n      <td>pumped_hydro, electricity, wind, generation, g...</td>\n    </tr>\n    <tr>\n      <th>6</th>\n      <td>[compressed_air, advanced_adiabatic, diabatic]</td>\n      <td>compressed_air, caes, advanced_adiabatic, pres...</td>\n    </tr>\n    <tr>\n      <th>7</th>\n      <td>laes</td>\n      <td>increase, lower, higher, decrease, reduced, re...</td>\n    </tr>\n    <tr>\n      <th>8</th>\n      <td>flywheel</td>\n      <td>flywheel, control, controller, converter, roto...</td>\n    </tr>\n    <tr>\n      <th>9</th>\n      <td>hydrogen</td>\n      <td>hydrogen, fuel_cell, electrolyzer, electrolysi...</td>\n    </tr>\n    <tr>\n      <th>10</th>\n      <td>[methanol, ammonia, p2g]</td>\n      <td>ammonia, methanol, fuel, production, emission,...</td>\n    </tr>\n    <tr>\n      <th>11</th>\n      <td>sensible_heat</td>\n      <td>thermal, temperature, heat, sensible_heat, sol...</td>\n    </tr>\n    <tr>\n      <th>12</th>\n      <td>latent_heat</td>\n      <td>latent_heat, phase_change, pcm, material_pcm, ...</td>\n    </tr>\n    <tr>\n      <th>13</th>\n      <td>thermochemical</td>\n      <td>thermochemical, reactor, concentrated_solar, r...</td>\n    </tr>\n    <tr>\n      <th>14</th>\n      <td>[heat_pump, ptes]</td>\n      <td>heat_pump, building, consumption, summer, annu...</td>\n    </tr>\n    <tr>\n      <th>15</th>\n      <td>NaN</td>\n      <td>power, load, operation, supply, electric, outp...</td>\n    </tr>\n    <tr>\n      <th>16</th>\n      <td>NaN</td>\n      <td>material, system, property, prepared, composit...</td>\n    </tr>\n    <tr>\n      <th>17</th>\n      <td>NaN</td>\n      <td>different, efficiency, case, assessment, time,...</td>\n    </tr>\n    <tr>\n      <th>18</th>\n      <td>NaN</td>\n      <td>promising, cycle, potential, efficient, flexib...</td>\n    </tr>\n    <tr>\n      <th>19</th>\n      <td>NaN</td>\n      <td>model, simulation, optimization, parameter, dy...</td>\n    </tr>\n  </tbody>\n</table>\n</div>",
      "text/plain": "                                      anchor words  \\\n0                                   supercapacitor   \n1                                             smes   \n2                                        lead_acid   \n3                                      lithium_ion   \n4                                       redox_flow   \n5                                     pumped_hydro   \n6   [compressed_air, advanced_adiabatic, diabatic]   \n7                                             laes   \n8                                         flywheel   \n9                                         hydrogen   \n10                        [methanol, ammonia, p2g]   \n11                                   sensible_heat   \n12                                     latent_heat   \n13                                  thermochemical   \n14                               [heat_pump, ptes]   \n15                                             NaN   \n16                                             NaN   \n17                                             NaN   \n18                                             NaN   \n19                                             NaN   \n\n                                          topic words  \n0   supercapacitor, device, hybrid, charge, capaci...  \n1   smes, superconducting, coil, superconducting_m...  \n2   technology, lead_acid, future, battery, develo...  \n3   electrode, lithium_ion, electrochemical, speci...  \n4   flexible, redox_flow, electronic, solid_state,...  \n5   pumped_hydro, electricity, wind, generation, g...  \n6   compressed_air, caes, advanced_adiabatic, pres...  \n7   increase, lower, higher, decrease, reduced, re...  \n8   flywheel, control, controller, converter, roto...  \n9   hydrogen, fuel_cell, electrolyzer, electrolysi...  \n10  ammonia, methanol, fuel, production, emission,...  \n11  thermal, temperature, heat, sensible_heat, sol...  \n12  latent_heat, phase_change, pcm, material_pcm, ...  \n13  thermochemical, reactor, concentrated_solar, r...  \n14  heat_pump, building, consumption, summer, annu...  \n15  power, load, operation, supply, electric, outp...  \n16  material, system, property, prepared, composit...  \n17  different, efficiency, case, assessment, time,...  \n18  promising, cycle, potential, efficient, flexib...  \n19  model, simulation, optimization, parameter, dy...  "
     },
     "execution_count": 82,
     "metadata": {},
     "output_type": "execute_result"
    }
   ],
   "source": [
    "\r\n",
    "\r\n",
    "\r\n",
    "s_a = pd.Series(anchors, name = 'anchor words')\r\n",
    "\r\n",
    "df = pd.concat([s_a, topic_keywords], axis = 1)\r\n",
    "df"
   ]
  },
  {
   "cell_type": "code",
   "execution_count": 12,
   "metadata": {},
   "outputs": [
    {
     "data": {
      "text/plain": "[[('supercapacitor', 0.6374713551809056),\n  ('device', 0.14916564868736226),\n  ('specific_capacitance', 0.09852836609470093),\n  ('capacitance', 0.07988617374625691),\n  ('flexible', 0.04942410497261784),\n  ('asymmetric_supercapacitor', 0.04451520088918274),\n  ('assembled', 0.03523357217939775),\n  ('hierarchical', 0.03463923939119807),\n  ('electronic', 0.03390454012655896),\n  ('deliver', 0.026503860281309473)],\n [('smes', 0.1686989981057972),\n  ('superconducting', 0.2550239963939545),\n  ('coil', 0.16595440434367986),\n  ('superconducting_magnetic', 0.11599850424904246),\n  ('magnet', 0.10794960591481652),\n  ('magnetic_field', 0.08599774906116418),\n  ('superconductor', 0.07943596064037779),\n  ('magnetic', 0.06428772199304751),\n  ('conductor', 0.05098705228735629),\n  ('superconducting_magnet', 0.04969388907997227)],\n [('system', 0.14940212146886023),\n  ('power', 0.14924932856915063),\n  ('load', 0.07187737863356151),\n  ('lead_acid', 0.012824055139245514),\n  ('operation', 0.05197854150822339),\n  ('supply', 0.049878576079137836),\n  ('property', -0.04809989922523366),\n  ('output', 0.03564359893607035),\n  ('electric', 0.033005001055366294),\n  ('fluctuation', 0.026918548063489672)],\n [('electrode', 0.336207205439086),\n  ('lithium_ion', 0.06262991343533485),\n  ('electrochemical', 0.20919418129534956),\n  ('material', 0.12461369910391017),\n  ('excellent', 0.09579927846773957),\n  ('high', 0.08578910176218478),\n  ('electrolyte', 0.07591828676070413),\n  ('carbon', 0.07414493558242201),\n  ('graphene', 0.06901557954519537),\n  ('performance', 0.06789132479763214)],\n [('different', -0.03618828966561726),\n  ('assessment', -0.02146072407416421),\n  ('main', -0.020047075101257826),\n  ('term', -0.017704231438160488),\n  ('mean', -0.01687089383625797),\n  ('selection', -0.015881294891550872),\n  ('comparison', -0.015842162934857622),\n  ('aim', -0.01559727055803161),\n  ('concept', -0.015162395451709075),\n  ('literature', -0.01511584460976522)],\n [('pumped_hydro', 0.05281993602323488),\n  ('electricity', 0.14234216539389316),\n  ('cost', 0.08795684760853294),\n  ('generation', 0.08220831715858805),\n  ('grid', 0.07582629674327064),\n  ('wind', 0.07160480620447422),\n  ('renewable', 0.07057341688478551),\n  ('plant', 0.06934737379433577),\n  ('technology', 0.058097367708679286),\n  ('demand', 0.05773604412990523)],\n [('compressed_air', 0.3277737526090524),\n  ('caes', 0.18107178811804925),\n  ('advanced_adiabatic', 0.011428603527774993),\n  ('pressure', 0.032630441643511525),\n  ('cavern', 0.027491464537845397),\n  ('diabatic', 0.004892358157545869),\n  ('compressor', 0.014885516235678485),\n  ('reservoir', 0.014754331119036283),\n  ('compression', 0.014454956154757358),\n  ('underground', 0.013432963135076408)],\n [('application', 0.04893129897940273),\n  ('future', 0.03899449769596152),\n  ('promising', 0.03868433841886259),\n  ('potential', 0.037262088655298335),\n  ('reaction', 0.036701174122001114),\n  ('development', 0.0363539212068501),\n  ('chemical', 0.03196293922287407),\n  ('conversion', 0.025216665073562232),\n  ('advanced', 0.02414956699806662),\n  ('toward', 0.023796412401416993)],\n [('flywheel', 0.15338212652043787),\n  ('control', 0.07291470500302226),\n  ('controller', 0.05413731622171319),\n  ('rotor', 0.045920736057690384),\n  ('converter', 0.045690791454826025),\n  ('speed', 0.03370896031304047),\n  ('voltage', 0.032509246170054844),\n  ('permanent_magnet', 0.02907540826653185),\n  ('generator', 0.027987820881587876),\n  ('frequency', 0.025022289978465638)],\n [('hydrogen', 0.3955860430123388),\n  ('fuel_cell', 0.047739285981108236),\n  ('electrolyzer', 0.029141205244355678),\n  ('electrolysis', 0.021809296006571742),\n  ('h2', 0.016589656054165094),\n  ('metal_hydride', 0.0163761266045826),\n  ('electrolyser', 0.015916430210713872),\n  ('hydride', 0.015353942427843794),\n  ('carrier', 0.013609293455821916),\n  ('water_electrolysis', 0.013472829471281398)],\n [('ammonia', 0.027122648635024452),\n  ('methanol', 0.023052252635317145),\n  ('fuel', 0.049237489239949646),\n  ('gas', 0.019250420086602764),\n  ('combustion', 0.014899482446764603),\n  ('co2', 0.01429202049495839),\n  ('catalyst', 0.012474839009005277),\n  ('alternative', 0.012102072138464058),\n  ('methane', 0.011682139487741168),\n  ('waste', 0.010207218712343417)],\n [('thermal', 0.23185451996503387),\n  ('temperature', 0.1520980633162719),\n  ('heat', 0.111140857545079),\n  ('sensible_heat', 0.02213408635873132),\n  ('heat_transfer', 0.06414482440425133),\n  ('fluid', 0.045040979238646854),\n  ('air', 0.04269984974689069),\n  ('efficiency', 0.040223029615054744),\n  ('tank', 0.03795824739153055),\n  ('thermodynamic', 0.034383007486392676)],\n [('latent_heat', 0.21569557088710353),\n  ('phase_change', 0.3204248033294896),\n  ('pcm', 0.13169683333401994),\n  ('material_pcm', 0.12554806026507503),\n  ('melting', 0.08327027413470553),\n  ('material_pcms', 0.07565082819839067),\n  ('latent', 0.0679161866253859),\n  ('pcms', 0.0530836643895982),\n  ('conductivity', 0.045079444854225235),\n  ('paraffin', 0.038673126164814206)],\n [('thermochemical', 0.14017677195839742),\n  ('reactor', 0.034788162697018794),\n  ('concentrated_solar', 0.03440811165177602),\n  ('molten_salt', 0.031201816335208896),\n  ('salt', 0.02604628088828955),\n  ('power_csp', 0.025420207371047415),\n  ('concentrating_solar', 0.022552965872247997),\n  ('parabolic_trough', 0.018292259886265143),\n  ('solid', 0.018241075596833294),\n  ('receiver', 0.018072957100971773)],\n [('heat_pump', 0.04853901939771388),\n  ('building', 0.06945489558433192),\n  ('solar', 0.06450552862665736),\n  ('collector', 0.053655817299867146),\n  ('heating', 0.04529538487078568),\n  ('summer', 0.03406494113467496),\n  ('consumption', 0.03385842275494438),\n  ('water', 0.03293314824888007),\n  ('day', 0.027720274408333904),\n  ('night', 0.027114098252951305)],\n [('battery', -0.04745972199872827),\n  ('measured', 0.03442588845159555),\n  ('measurement', 0.031071789973816273),\n  ('flux', 0.028533882593369905),\n  ('finite_element', 0.02805932663022221),\n  ('hybrid', -0.027306910069221806),\n  ('experimental', 0.02610279272336493),\n  ('test', 0.02519421328454171),\n  ('experiment', 0.023194955318294956),\n  ('inside', 0.023062287717048192)],\n [('model', 0.16031905398471852),\n  ('simulation', 0.09209470067825772),\n  ('optimization', 0.06576713951557224),\n  ('optimal', 0.054934322850123486),\n  ('parameter', 0.04342199022574444),\n  ('modeling', 0.04031810789415666),\n  ('dynamic', 0.03937584590050266),\n  ('algorithm', 0.039147759334267306),\n  ('numerical', 0.02974568155855619),\n  ('data', 0.02525960453168851)],\n [('time', -0.035219445969754896),\n  ('unit', -0.028044725000481212),\n  ('total', -0.027663440343680894),\n  ('stored', -0.026888078011835785),\n  ('order', -0.02653757138433282),\n  ('condition', -0.025292835585492217),\n  ('reduce', -0.02432825389563758),\n  ('analysis', -0.02362270117834741),\n  ('variation', -0.02281833211336034),\n  ('performed', -0.02264853230493865)],\n [('prepared', 0.08611928398770695),\n  ('cycle', 0.06108459391366921),\n  ('composite', 0.05716824185406285),\n  ('fabricated', 0.05463091533099341),\n  ('stability', 0.04152012173814162),\n  ('cm', 0.03664127871996436),\n  ('good', 0.034565089568689304),\n  ('exhibited', 0.0323434793366164),\n  ('enhanced', 0.03073610367446799),\n  ('cycling', 0.02416908748136471)],\n [('role', 0.023978159119683394),\n  ('focus', 0.020989315726452303),\n  ('issue', 0.020143665518554947),\n  ('aspect', 0.019638962867027716),\n  ('key', 0.017959970688699443),\n  ('opportunity', 0.01582989624395422),\n  ('discus', 0.013496522522925956),\n  ('provide', 0.013414176700424267),\n  ('address', 0.013078376389565181),\n  ('finally', 0.01295294179437078)]]"
     },
     "execution_count": 12,
     "metadata": {},
     "output_type": "execute_result"
    }
   ],
   "source": [
    "topic_model.get_topics()"
   ]
  },
  {
   "cell_type": "code",
   "execution_count": 10,
   "metadata": {},
   "outputs": [
    {
     "name": "stdout",
     "output_type": "stream",
     "text": [
      "NOTE: 'docs' not provided to CorEx. Returning top docs as lists of row indices\n",
      "1: supercapacitor, device, specific_capacitance, capacitance, flexible, asymmetric_supercapacitor, assembled, hierarchical, electronic, deliver\n",
      "\n",
      "facile synthesis of nitrogen and oxygen co doped clews of carbon nanobelts for supercapacitors with ,\n",
      "a comparative study of supercapacitive performances of nickel cobalt layered double hydroxides coate,\n",
      "a robust 2d porous carbon nanoflake cathode for high energy power density zn ion hybrid supercapacit,\n",
      "freestanding 3d graphene nickel encapsulated nitrogen rich aligned bamboo like carbon nanotubes for ,\n",
      "strategies for control of a battery supercapacitor system in an electric vehicle,\n",
      "enhanced aging model for supercapacitors taking into account power cycling application to the sizing,\n",
      "free standing layered graphene monoliths for long life supercapacitor,\n",
      "advanced cu0 5co0 5se2 nanosheets and mxene electrodes for high performance asymmetric supercapacito,\n",
      "prussian blue its analogues and their derived materials for electrochemical energy storage and conve,\n",
      "review on reliability of supercapacitors in energy storage applications\n",
      "\n",
      "2: smes, superconducting, coil, superconducting_magnetic, magnet, magnetic_field, superconductor, magnetic, conductor, superconducting_magnet\n",
      "\n",
      "quasiparticle response of superconducting aluminum to electromagnetic radiation,\n",
      "the potential impact of developing high tc superconductors on superconductive magnetic energy storag,\n",
      "compensation of load fluctuation of power supply system for large accelerator using smes,\n",
      "global cost optimization of 1 10 mwh toroidal smes,\n",
      "improved state feedback control for current source converter of smes,\n",
      "conceptual design of a 100 mj superconducting magnetic energy storage,\n",
      "impurity accumulation in a nb3sn superconducting magnet system on the high field tokamak triam 1m,\n",
      "a field experiment on power line stabilization by a smes system,\n",
      "neuro fuzzy load frequency control in a competitive electricity market using bfoa tuned smes and tcp,\n",
      "a two phase full wave superconducting rectifier\n",
      "\n",
      "3: system, power, load, lead_acid, operation, supply, property, output, electric, fluctuation\n",
      "\n",
      "a bi level program for the planning of an islanded microgrid including caes,\n",
      "power smoothing control and low voltage ride through enhancement of a 5 phase pmsg based marine tida,\n",
      "feasibility study and economic analysis of pumped hydro storage and battery storage for a renewable ,\n",
      "a novel power distribution system employing state of available power estimation for a hybrid energy ,\n",
      "hybrid energy storage based on ultracapacitor and lead acid battery case study,\n",
      "investigation on system for renewable electricity storage in small scale integrating photovoltaics b,\n",
      "on the design of a direct cell coupled hybrid energy storage system for plug in hybrid electric vehi,\n",
      "energy storage opportunities and capabilities of a type 3 wind turbine generator,\n",
      "energy conservation in urban public transport,\n",
      "remote power algebra heat compressed air lead acid\n",
      "\n",
      "4: electrode, lithium_ion, electrochemical, material, excellent, high, electrolyte, carbon, graphene, performance\n",
      "\n",
      "mesoporous lafeo3 perovskite derived from mof gel for all solid state symmetric supercapacitors,\n",
      "can ionophobic nanopores enhance the energy storage capacity of electric double layer capacitors con,\n",
      "mof derived co c nanocomposites encapsulated by ni oh 2 ultrathin nanosheets shell for high performa,\n",
      "hierarchical structure electrodes of nio ultrathin nanosheets anchored to nico2o4 on carbon cloth wi,\n",
      "metal like fluorine doped β feooh nanorods grown on carbon cloth for scalable high performance super,\n",
      "nanoengineering energy conversion and storage devices via atomic layer deposition,\n",
      "flexible fiber shaped supercapacitors based on hierarchically nanostructured composite electrodes,\n",
      "reversible hydrogen storage using co 2 and a proton switchable iridium catalyst in aqueous media und,\n",
      "heteroatom doped and oxygen functionalized nanocarbons for high performance supercapacitors,\n",
      "electrodeposition preparation of nico2o4 mesoporous film on ultrafine nickel wire for flexible asymm\n",
      "\n",
      "5: different, assessment, main, term, mean, selection, comparison, aim, concept, literature\n",
      "\n",
      "new insights into phenazine based organic redox flow batteries by using high throughput dft modellin,\n",
      "electrolytic vascular systems for energy dense robots,\n",
      "monitoring innovation in electrochemical energy storage technologies a patent based approach,\n",
      "design of proportional integral derivative controller using stochastic particle swarm optimization t,\n",
      "optimized pi load frequency controller using bwnn approach for an interconnected reheat power system,\n",
      "decentralized electricity storage evaluation in the portuguese context,\n",
      "redox flow batteries status and perspective towards sustainable stationary energy storage,\n",
      "chemical energy storage,\n",
      "progress and prospects of next generation redox flow batteries,\n",
      "polymeric active materials for redox flow battery application\n",
      "\n",
      "6: pumped_hydro, electricity, cost, generation, grid, wind, renewable, plant, technology, demand\n",
      "\n",
      "simulation model for wind energy storage systems volume ii operation manual simwest code,\n",
      "a novel subdivision based optimal design algorithm for multidimensional electromagnetic problems,\n",
      "coordinated optimization and control of sfcl and smes for mitigation of ssr using hbb bc algorithm i,\n",
      "improving the load flexibility of coal fired power plants by the integration of a thermal energy sto,\n",
      "iea shc task 45 large solar heating cooling systems seasonal storage heat pumps,\n",
      "load sharing with a local thermal network fed by a microcogenerator thermo economic optimization by ,\n",
      "wind energy to thermal and cold storage a systems approach,\n",
      "life cycle assessment of thermal energy storage two tank indirect and thermocline,\n",
      "an efficient reactive power dispatch method for hybrid photovoltaic and superconducting magnetic ene,\n",
      "thermal performance prediction and sensitivity analysis for future deployment of molten salt cavity \n",
      "\n",
      "7: compressed_air, caes, advanced_adiabatic, pressure, cavern, diabatic, compressor, reservoir, compression, underground\n",
      "\n",
      "study and dimensioning of a compressed air storage system dedicated to the isolated site,\n",
      "caes by design a user centered approach to designing compressed air energy storage caes systems for ,\n",
      "thermodynamic performance analysis assessment and comparison of an advanced trigenerative compressed,\n",
      "potential hazards of compressed air energy storage in depleted natural gas reservoirs,\n",
      "impact of compressed air energy storage demands on gas turbine performance,\n",
      "energy storage technologies and devices,\n",
      "exergy analysis of a one stage adiabatic compressed air energy storage system,\n",
      "game theory based multi agent capacity optimization for integrated energy systems with compressed ai,\n",
      "identification of optimal parameters for a small scale compressed air energy storage system using re,\n",
      "underground coal mine workings as potential places for compressed air energy storage\n",
      "\n",
      "8: application, future, promising, potential, reaction, development, chemical, conversion, advanced, toward\n",
      "\n",
      "formate bicarbonate cycle as a vehicle for hydrogen and energy storage,\n",
      "development of portable superconducting bulk magnet system,\n",
      "contribution of the compressed air energy storage in the reduction of ghg case study application on ,\n",
      "observation of lithium dendrites at ambient temperature and below,\n",
      "key challenges and recent progress in batteries fuel cells and hydrogen storage for clean energy sys,\n",
      "advanced chemical strategies for lithium sulfur batteries a review,\n",
      "the hydrogen issue,\n",
      "transient analysis of a compressed air energy storage system,\n",
      "opportunities and challenges for organic electrodes in electrochemical energy storage,\n",
      "diatom silica an emerging biomaterial for energy conversion and storage\n",
      "\n",
      "9: flywheel, control, controller, rotor, converter, speed, voltage, permanent_magnet, generator, frequency\n",
      "\n",
      "simulation model for wind energy storage systems volume ii operation manual simwest code,\n",
      "a study on the design of the flywheel energy storage device to store the regenerative energy,\n",
      "review on the distributed energy storage technology in the application of the micro network,\n",
      "power smoothing control for wind farms using flywheel based energy storage,\n",
      "simulation of energy sharing among flywheels in parallel configuration,\n",
      "simulation of flywheel energy storage system for city buses,\n",
      "mechanical countermeasures to subsynchronous torsional instability in turbogenerators,\n",
      "energy optimization for a wind dfig with flywheel energy storage,\n",
      "methods for starting an asynchronized flywheel compensator,\n",
      "levitation properties of a ring shaped flywheel supported by high tc superconducting levitation\n",
      "\n",
      "10: hydrogen, fuel_cell, electrolyzer, electrolysis, h2, metal_hydride, electrolyser, hydride, carrier, water_electrolysis\n",
      "\n",
      "economical assessment of a wind hydrogen energy system using windhygen software,\n",
      "hydrogen energy technology renewable source of energy,\n",
      "underground hydrogen storage a comprehensive review,\n",
      "a curtailed wind power accommodation strategy based on wind hydrogen heat storage integrated energy ,\n",
      "large vscale hydrogen production and storage technologies current status and future directions,\n",
      "quantitative valuation of hydrogen blending in european gas grids and its impact on the combustion p,\n",
      "design of 20 nm3 h class liquid organic hydrogen carrier system integrated with electrolyzer and fue,\n",
      "property libraries for working fluids for calculating heat cycles turbines heat pumps and refrigerat,\n",
      "energetic macroscopic representation control method for a hybrid source energy system including wind,\n",
      "critical metrics and fundamental materials challenges for renewable hydrogen production technologies\n",
      "\n",
      "11: ammonia, methanol, fuel, gas, combustion, co2, catalyst, alternative, methane, waste\n",
      "\n",
      "oxidation of methanol and formaldehyde to co2 by a photocatalyst with an energy storage ability,\n",
      "effect of operating and geometrical parameters on ammonia decomposition in a tubular reactor driven ,\n",
      "study of ammonia adsorption desorption characteristics of cacl2 expanded natural graphite composite ,\n",
      "complex compound low temperature tes system,\n",
      "photoelectrochemical and photocatalytic production of solar fuels,\n",
      "equilibrium of nh4scnnh3 system for thermal energy storage,\n",
      "conversion of carbon dioxide into methanol a potential liquid fuel fundamental challenges and opport,\n",
      "efficient methanol synthesis perspectives technologies and optimization strategies,\n",
      "affinity thermal machines and metallic salt ammonia ammoniates systems,\n",
      "a review of the catalytic hydrogenation of carbon dioxide into value added hydrocarbons\n",
      "\n",
      "12: thermal, temperature, heat, sensible_heat, heat_transfer, fluid, air, efficiency, tank, thermodynamic\n",
      "\n",
      "high temperature thermochemical energy storage using packed beds,\n",
      "study of effect of heat transfer in an air storage vessel on performance of a pumped hydro compresse,\n",
      "liquid air energy storage with lng cold recovery for air liquefaction improvement,\n",
      "thermodynamic analysis of an integrated energy system based on compressed air energy storage caes sy,\n",
      "experimental evaluation of energy and exergy efficiency of a seasonal latent heat storage system for,\n",
      "thermal storage in a mw scale molten salt solar thermal pilot facility plant description and commiss,\n",
      "advanced integration of lng regasification power plant with liquid air energy storage enhancements i,\n",
      "close contact melting in vertical annular enclosures with a non isothermal base theoretical modeling,\n",
      "solarthermal parabolic trough power plants with integrated storage capacity,\n",
      "the comparative analysis on thermal storage systems for solar power with direct steam generation\n",
      "\n",
      "13: latent_heat, phase_change, pcm, material_pcm, melting, material_pcms, latent, pcms, conductivity, paraffin\n",
      "\n",
      "review on thermal energy storage with phase change materials and applications,\n",
      "preparation and thermal performance of paraffin nano sio2 nanocomposite for passive thermal protecti,\n",
      "melamine foam reduced graphene oxide supported form stable phase change materials with simultaneous ,\n",
      "nanostructures assisted melting of phase change materials in various cavities,\n",
      "long term thermal stability of organic pcms,\n",
      "analysis on the heat storage unit through a y shaped fin for solidification of nepcm,\n",
      "a comparative study of myristic acid bentonite and myristic acid eudragit l100 form stable phase cha,\n",
      "improved measurement technique for the characterization of organic and inorganic phase change materi,\n",
      "encapsulation of high temperature inorganic phase change materials using graphite as heat transfer e,\n",
      "dsc test error of phase change material pcm and its influence on the simulation of the pcm floor\n",
      "\n",
      "14: thermochemical, reactor, concentrated_solar, molten_salt, salt, power_csp, concentrating_solar, parabolic_trough, solid, receiver\n",
      "\n",
      "design of zeolite boiler in thermochemical energy storage and transport system utilizing unused heat,\n",
      "investigating the performance enhancement of copper fins on trapezoidal thermochemical reactor,\n",
      "a new phase change material based on potassium nitrate with silica and alumina nanoparticles for the,\n",
      "thermochemical energy storage performance of zinc destabilized calcium hydride at high temperatures,\n",
      "110th anniversary calcium looping coupled with concentrated solar power for carbon capture and therm,\n",
      "characterization of desert sand to be used as a high temperature thermal energy storage medium in pa,\n",
      "development of pomegranate type cacl2 c composites via a scalable one pot pyrolysis strategy for sol,\n",
      "thermochemical analysis of dry methane reforming hydrogen production in biomimetic venous hierarchic,\n",
      "effects of cacl2 on cyclic carbonation calcination kinetics of cao based composite for potential app,\n",
      "integration of thermochemical energy storage in concentrated solar power part 1 energy and economic \n",
      "\n",
      "15: heat_pump, building, solar, collector, heating, summer, consumption, water, day, night\n",
      "\n",
      "corrosion of metal and metal alloy containers in contact with phase change materials pcm for potenti,\n",
      "contribution of indoor exposed massive wood to a good indoor climate in situ measurement campaign,\n",
      "zero energy level and economic potential of small scale building integrated pv with different heatin,\n",
      "application of an unconventional thermal and mechanical energy storage coupled with the air conditio,\n",
      "an experimental study on the operating performance of a novel reverse cycle hot gas defrosting metho,\n",
      "a thermodynamic review on solar box type cookers,\n",
      "reduced order residential home modeling for model predictive control,\n",
      "a novel thermal storage strategy for cchp system based on energy demands and state of storage tank,\n",
      "experimental investigations of the performance of a solar ground source heat pump system operated in,\n",
      "modeling energy efficiency of bioclimatic buildings\n",
      "\n",
      "16: battery, measured, measurement, flux, finite_element, hybrid, experimental, test, experiment, inside\n",
      "\n",
      "analysis of levitation characteristics of a radial type high temperature superconducting bearing bas,\n",
      "geomechanical stability of underground lined rock caverns lrc for compressed air energy storage caes,\n",
      "lead carbon ultrabatteries for energy storage,\n",
      "magnetic property observation of high temperature superconducting bulk material by magnetic flux dis,\n",
      "an analytical solution for mechanical responses induced by temperature and air pressure in a lined r,\n",
      "simplified models of the symmetric single pass parallel plate counterflow heat exchanger a tutorial,\n",
      "resistive superconducting transition of y1 xprxba2cu3oy film in magnetic field,\n",
      "thermal analyses of the smes etm power bus cryostat,\n",
      "stability test of a pair of conical coils for open bore mri magnet,\n",
      "change in fatigue property and its relation to critical current for ybco coated conductor with addit\n",
      "\n",
      "17: model, simulation, optimization, optimal, parameter, modeling, dynamic, algorithm, numerical, data\n",
      "\n",
      "balancing wind intermittency using hydro reserves and demand response,\n",
      "artificial bee colony algorithm for transient performance augmentation of grid connected distributed,\n",
      "optimized automatic generation control by sssc and tcps in coordination with smes for two area hydro,\n",
      "robust optimisation for self scheduling and bidding strategies of hybrid csp fossil power plants,\n",
      "exhaustive optimization method based on doe and fem applied on a smes device,\n",
      "dynamic modeling of a sensible thermal energy storage tank with an immersed coil heat exchanger unde,\n",
      "integration of thermochemical energy storage in concentrated solar power part 2 comprehensive optimi,\n",
      "global sensitivity analysis of a cao ca oh 2 thermochemical energy storage model for parametric effe,\n",
      "life cycle assessment of thermal energy storage two tank indirect and thermocline,\n",
      "a novel approach to calculate inductance and analyze magnetic flux density of helical toroidal coil \n",
      "\n",
      "18: time, unit, total, stored, order, condition, reduce, analysis, variation, performed\n",
      "\n",
      "facile and low cost fabrication of uniform silicon micro nanostructures by nanopitting assisted wet ,\n",
      "a new electrochemically responsive 2d π conjugated covalent organic framework as a high performance ,\n",
      "circuit edit of superconducting microcircuits,\n",
      "inkjet and aerosol jet printing of electrochemical devices for energy conversion and storage,\n",
      "dna hydrogel templated carbon nanotube and polyaniline assembly and its applications for electrochem,\n",
      "molybdenum carbide nanoparticle decorated 3d nitrogen doped carbon flowers as an efficient electrode,\n",
      "elastic carbon aerogels reconstructed from electrospun nanofibers and graphene as three dimensional ,\n",
      "advanced chemical applications of modified cotton,\n",
      "flexible and anti freezing quasi solid state zinc ion hybrid supercapacitors based on pencil shaving,\n",
      "chemically modified stainless steel mesh derived substrate free iron based composite as anode materi\n",
      "\n",
      "19: prepared, cycle, composite, fabricated, stability, cm, good, exhibited, enhanced, cycling\n",
      "\n",
      "mechanical alloying and electrochemical hydrogen storage of mg based systems,\n",
      "electrochemical performance evaluation of tin oxide nanorod embedded woven carbon fiber composite su,\n",
      "highly stable 3d porous heterostructures with hierarchically coordinated octahedral transition metal,\n",
      "experimental investigation on mechanism of latent heat reduction of sodium acetate trihydrate phase ,\n",
      "multivalent ion storage towards high performance aqueous zinc ion hybrid supercapacitors,\n",
      "poly ethylene glycol acrylic polymer blends for latent heat thermal energy storage,\n",
      "effects of modified graphite on thermal properties of modified graphite ca ma pmma composite for lat,\n",
      "high yield preparation versatile structural modification and properties of layered cobalt hydroxide ,\n",
      "enhanced performances of macro encapsulated phase change materials pcms by intensification of the in,\n",
      "a thermally stable phase change material with high latent heat based on an oxalic acid dihydrate bor\n",
      "\n",
      "20: role, focus, issue, aspect, key, opportunity, discus, provide, address, finally\n",
      "\n",
      "ionic liquids at charged surfaces insight from molecular simulations,\n",
      "quantitative temperature monitoring of a heat tracing experiment using cross borehole ert,\n",
      "supercapacitors electrical characteristics modeling applications and future trends,\n",
      "lifetime analysis of energy storage systems for sustainable transportation,\n",
      "the status and future of flywheel energy storage,\n",
      "production of hydrogen for export from wind and solar energy natural gas and coal in australia,\n",
      "activated carbon fibres as high performance supercapacitor electrodes with commercial level mass loa,\n",
      "integration of wind and hydrogen technologies in the power system of corvo island azores a cost bene,\n",
      "appropriate methods for evaluating the efficiency and capacitive behavior of different types of supe,\n",
      "pumped hydro energy storage system a technological review\n",
      "\n"
     ]
    }
   ],
   "source": [
    "titles = df_text['title']\r\n",
    "\r\n",
    "top_docs = topic_model.get_top_docs()\r\n",
    "for topic_n, topic_docs in enumerate(top_docs):\r\n",
    "    docs,probs = zip(*topic_docs)\r\n",
    "    docs = [str(titles[d])[0:100] for d in docs]\r\n",
    "    topic_str = str(topic_n+1)+': ' + str(topic_words[topic_n]) + '\\n\\n'+',\\n'.join(docs) + '\\n'\r\n",
    "    print(topic_str)"
   ]
  },
  {
   "cell_type": "code",
   "execution_count": 84,
   "metadata": {},
   "outputs": [
    {
     "name": "stdout",
     "output_type": "stream",
     "text": [
      "WARNING: Some words never appear (or always appear)\n",
      "weight threshold is 0.000000 for graph with max of 140.000000 edges \n",
      "non-isolated nodes,edges 26 23\n",
      "non-isolated nodes,edges 26 20\n",
      "Couldn't find 'force.html' file for visualizing d3 output\n"
     ]
    }
   ],
   "source": [
    "\r\n",
    "# Train successive layers\r\n",
    "tm_layer2 = ct.Corex(n_hidden=7)\r\n",
    "tm_layer2.fit(topic_model.labels)\r\n",
    "\r\n",
    "tm_layer3 = ct.Corex(n_hidden=1)\r\n",
    "tm_layer3.fit(tm_layer2.labels)\r\n",
    "# %%\r\n",
    "from corextopic import vis_topic as vt\r\n",
    "G = vt.vis_hierarchy([topic_model, tm_layer2], column_label=feature_names, max_edges=300, prefix='output-multianchor')\r\n"
   ]
  },
  {
   "cell_type": "code",
   "execution_count": 85,
   "metadata": {},
   "outputs": [
    {
     "data": {
      "text/plain": "array([[1.00000000e-06, 1.00000000e-06, 8.07243687e-01, ...,\n        9.75014115e-01, 8.67052779e-02, 7.41620865e-04],\n       [1.00000000e-06, 1.00000000e-06, 9.99998510e-01, ...,\n        8.93587716e-01, 3.64793547e-03, 5.14211115e-02],\n       [9.99999000e-01, 1.17140227e-05, 1.22043455e-01, ...,\n        9.69306253e-01, 3.78608990e-03, 5.16458959e-03],\n       ...,\n       [1.00000000e-06, 1.00000000e-06, 9.04189125e-01, ...,\n        6.57774215e-05, 7.00021063e-03, 5.12277644e-02],\n       [1.00000000e-06, 1.00000000e-06, 9.99999000e-01, ...,\n        2.68782147e-01, 9.99999000e-01, 7.41872352e-04],\n       [1.00000000e-06, 1.34382863e-05, 9.99999000e-01, ...,\n        6.10038164e-01, 3.66492393e-03, 9.99998551e-01]])"
     },
     "execution_count": 85,
     "metadata": {},
     "output_type": "execute_result"
    }
   ],
   "source": [
    "doc_topic_prob = topic_model.p_y_given_x\r\n",
    "doc_topic_prob"
   ]
  },
  {
   "cell_type": "code",
   "execution_count": null,
   "metadata": {},
   "outputs": [],
   "source": []
  },
  {
   "cell_type": "code",
   "execution_count": 86,
   "metadata": {},
   "outputs": [
    {
     "data": {
      "text/html": "<div><svg style=\"position: absolute; width: 0; height: 0; overflow: hidden\">\n<defs>\n<symbol id=\"icon-database\" viewBox=\"0 0 32 32\">\n<path d=\"M16 0c-8.837 0-16 2.239-16 5v4c0 2.761 7.163 5 16 5s16-2.239 16-5v-4c0-2.761-7.163-5-16-5z\"></path>\n<path d=\"M16 17c-8.837 0-16-2.239-16-5v6c0 2.761 7.163 5 16 5s16-2.239 16-5v-6c0 2.761-7.163 5-16 5z\"></path>\n<path d=\"M16 26c-8.837 0-16-2.239-16-5v6c0 2.761 7.163 5 16 5s16-2.239 16-5v-6c0 2.761-7.163 5-16 5z\"></path>\n</symbol>\n<symbol id=\"icon-file-text2\" viewBox=\"0 0 32 32\">\n<path d=\"M28.681 7.159c-0.694-0.947-1.662-2.053-2.724-3.116s-2.169-2.030-3.116-2.724c-1.612-1.182-2.393-1.319-2.841-1.319h-15.5c-1.378 0-2.5 1.121-2.5 2.5v27c0 1.378 1.122 2.5 2.5 2.5h23c1.378 0 2.5-1.122 2.5-2.5v-19.5c0-0.448-0.137-1.23-1.319-2.841zM24.543 5.457c0.959 0.959 1.712 1.825 2.268 2.543h-4.811v-4.811c0.718 0.556 1.584 1.309 2.543 2.268zM28 29.5c0 0.271-0.229 0.5-0.5 0.5h-23c-0.271 0-0.5-0.229-0.5-0.5v-27c0-0.271 0.229-0.5 0.5-0.5 0 0 15.499-0 15.5 0v7c0 0.552 0.448 1 1 1h7v19.5z\"></path>\n<path d=\"M23 26h-14c-0.552 0-1-0.448-1-1s0.448-1 1-1h14c0.552 0 1 0.448 1 1s-0.448 1-1 1z\"></path>\n<path d=\"M23 22h-14c-0.552 0-1-0.448-1-1s0.448-1 1-1h14c0.552 0 1 0.448 1 1s-0.448 1-1 1z\"></path>\n<path d=\"M23 18h-14c-0.552 0-1-0.448-1-1s0.448-1 1-1h14c0.552 0 1 0.448 1 1s-0.448 1-1 1z\"></path>\n</symbol>\n</defs>\n</svg>\n<style>/* CSS stylesheet for displaying xarray objects in jupyterlab.\n *\n */\n\n:root {\n  --xr-font-color0: var(--jp-content-font-color0, rgba(0, 0, 0, 1));\n  --xr-font-color2: var(--jp-content-font-color2, rgba(0, 0, 0, 0.54));\n  --xr-font-color3: var(--jp-content-font-color3, rgba(0, 0, 0, 0.38));\n  --xr-border-color: var(--jp-border-color2, #e0e0e0);\n  --xr-disabled-color: var(--jp-layout-color3, #bdbdbd);\n  --xr-background-color: var(--jp-layout-color0, white);\n  --xr-background-color-row-even: var(--jp-layout-color1, white);\n  --xr-background-color-row-odd: var(--jp-layout-color2, #eeeeee);\n}\n\nhtml[theme=dark],\nbody.vscode-dark {\n  --xr-font-color0: rgba(255, 255, 255, 1);\n  --xr-font-color2: rgba(255, 255, 255, 0.54);\n  --xr-font-color3: rgba(255, 255, 255, 0.38);\n  --xr-border-color: #1F1F1F;\n  --xr-disabled-color: #515151;\n  --xr-background-color: #111111;\n  --xr-background-color-row-even: #111111;\n  --xr-background-color-row-odd: #313131;\n}\n\n.xr-wrap {\n  display: block;\n  min-width: 300px;\n  max-width: 700px;\n}\n\n.xr-text-repr-fallback {\n  /* fallback to plain text repr when CSS is not injected (untrusted notebook) */\n  display: none;\n}\n\n.xr-header {\n  padding-top: 6px;\n  padding-bottom: 6px;\n  margin-bottom: 4px;\n  border-bottom: solid 1px var(--xr-border-color);\n}\n\n.xr-header > div,\n.xr-header > ul {\n  display: inline;\n  margin-top: 0;\n  margin-bottom: 0;\n}\n\n.xr-obj-type,\n.xr-array-name {\n  margin-left: 2px;\n  margin-right: 10px;\n}\n\n.xr-obj-type {\n  color: var(--xr-font-color2);\n}\n\n.xr-sections {\n  padding-left: 0 !important;\n  display: grid;\n  grid-template-columns: 150px auto auto 1fr 20px 20px;\n}\n\n.xr-section-item {\n  display: contents;\n}\n\n.xr-section-item input {\n  display: none;\n}\n\n.xr-section-item input + label {\n  color: var(--xr-disabled-color);\n}\n\n.xr-section-item input:enabled + label {\n  cursor: pointer;\n  color: var(--xr-font-color2);\n}\n\n.xr-section-item input:enabled + label:hover {\n  color: var(--xr-font-color0);\n}\n\n.xr-section-summary {\n  grid-column: 1;\n  color: var(--xr-font-color2);\n  font-weight: 500;\n}\n\n.xr-section-summary > span {\n  display: inline-block;\n  padding-left: 0.5em;\n}\n\n.xr-section-summary-in:disabled + label {\n  color: var(--xr-font-color2);\n}\n\n.xr-section-summary-in + label:before {\n  display: inline-block;\n  content: '►';\n  font-size: 11px;\n  width: 15px;\n  text-align: center;\n}\n\n.xr-section-summary-in:disabled + label:before {\n  color: var(--xr-disabled-color);\n}\n\n.xr-section-summary-in:checked + label:before {\n  content: '▼';\n}\n\n.xr-section-summary-in:checked + label > span {\n  display: none;\n}\n\n.xr-section-summary,\n.xr-section-inline-details {\n  padding-top: 4px;\n  padding-bottom: 4px;\n}\n\n.xr-section-inline-details {\n  grid-column: 2 / -1;\n}\n\n.xr-section-details {\n  display: none;\n  grid-column: 1 / -1;\n  margin-bottom: 5px;\n}\n\n.xr-section-summary-in:checked ~ .xr-section-details {\n  display: contents;\n}\n\n.xr-array-wrap {\n  grid-column: 1 / -1;\n  display: grid;\n  grid-template-columns: 20px auto;\n}\n\n.xr-array-wrap > label {\n  grid-column: 1;\n  vertical-align: top;\n}\n\n.xr-preview {\n  color: var(--xr-font-color3);\n}\n\n.xr-array-preview,\n.xr-array-data {\n  padding: 0 5px !important;\n  grid-column: 2;\n}\n\n.xr-array-data,\n.xr-array-in:checked ~ .xr-array-preview {\n  display: none;\n}\n\n.xr-array-in:checked ~ .xr-array-data,\n.xr-array-preview {\n  display: inline-block;\n}\n\n.xr-dim-list {\n  display: inline-block !important;\n  list-style: none;\n  padding: 0 !important;\n  margin: 0;\n}\n\n.xr-dim-list li {\n  display: inline-block;\n  padding: 0;\n  margin: 0;\n}\n\n.xr-dim-list:before {\n  content: '(';\n}\n\n.xr-dim-list:after {\n  content: ')';\n}\n\n.xr-dim-list li:not(:last-child):after {\n  content: ',';\n  padding-right: 5px;\n}\n\n.xr-has-index {\n  font-weight: bold;\n}\n\n.xr-var-list,\n.xr-var-item {\n  display: contents;\n}\n\n.xr-var-item > div,\n.xr-var-item label,\n.xr-var-item > .xr-var-name span {\n  background-color: var(--xr-background-color-row-even);\n  margin-bottom: 0;\n}\n\n.xr-var-item > .xr-var-name:hover span {\n  padding-right: 5px;\n}\n\n.xr-var-list > li:nth-child(odd) > div,\n.xr-var-list > li:nth-child(odd) > label,\n.xr-var-list > li:nth-child(odd) > .xr-var-name span {\n  background-color: var(--xr-background-color-row-odd);\n}\n\n.xr-var-name {\n  grid-column: 1;\n}\n\n.xr-var-dims {\n  grid-column: 2;\n}\n\n.xr-var-dtype {\n  grid-column: 3;\n  text-align: right;\n  color: var(--xr-font-color2);\n}\n\n.xr-var-preview {\n  grid-column: 4;\n}\n\n.xr-var-name,\n.xr-var-dims,\n.xr-var-dtype,\n.xr-preview,\n.xr-attrs dt {\n  white-space: nowrap;\n  overflow: hidden;\n  text-overflow: ellipsis;\n  padding-right: 10px;\n}\n\n.xr-var-name:hover,\n.xr-var-dims:hover,\n.xr-var-dtype:hover,\n.xr-attrs dt:hover {\n  overflow: visible;\n  width: auto;\n  z-index: 1;\n}\n\n.xr-var-attrs,\n.xr-var-data {\n  display: none;\n  background-color: var(--xr-background-color) !important;\n  padding-bottom: 5px !important;\n}\n\n.xr-var-attrs-in:checked ~ .xr-var-attrs,\n.xr-var-data-in:checked ~ .xr-var-data {\n  display: block;\n}\n\n.xr-var-data > table {\n  float: right;\n}\n\n.xr-var-name span,\n.xr-var-data,\n.xr-attrs {\n  padding-left: 25px !important;\n}\n\n.xr-attrs,\n.xr-var-attrs,\n.xr-var-data {\n  grid-column: 1 / -1;\n}\n\ndl.xr-attrs {\n  padding: 0;\n  margin: 0;\n  display: grid;\n  grid-template-columns: 125px auto;\n}\n\n.xr-attrs dt, dd {\n  padding: 0;\n  margin: 0;\n  float: left;\n  padding-right: 10px;\n  width: auto;\n}\n\n.xr-attrs dt {\n  font-weight: normal;\n  grid-column: 1;\n}\n\n.xr-attrs dt:hover span {\n  display: inline-block;\n  background: var(--xr-background-color);\n  padding-right: 10px;\n}\n\n.xr-attrs dd {\n  grid-column: 2;\n  white-space: pre-wrap;\n  word-break: break-all;\n}\n\n.xr-icon-database,\n.xr-icon-file-text2 {\n  display: inline-block;\n  vertical-align: middle;\n  width: 1em;\n  height: 1.5em !important;\n  stroke-width: 0;\n  stroke: currentColor;\n  fill: currentColor;\n}\n</style><pre class='xr-text-repr-fallback'>&lt;xarray.DataArray (id: 17091, topic: 20)&gt;\narray([[1.00000000e-06, 1.00000000e-06, 8.07243687e-01, ...,\n        9.75014115e-01, 8.67052779e-02, 7.41620865e-04],\n       [1.00000000e-06, 1.00000000e-06, 9.99998510e-01, ...,\n        8.93587716e-01, 3.64793547e-03, 5.14211115e-02],\n       [9.99999000e-01, 1.17140227e-05, 1.22043455e-01, ...,\n        9.69306253e-01, 3.78608990e-03, 5.16458959e-03],\n       ...,\n       [1.00000000e-06, 1.00000000e-06, 9.04189125e-01, ...,\n        6.57774215e-05, 7.00021063e-03, 5.12277644e-02],\n       [1.00000000e-06, 1.00000000e-06, 9.99999000e-01, ...,\n        2.68782147e-01, 9.99999000e-01, 7.41872352e-04],\n       [1.00000000e-06, 1.34382863e-05, 9.99999000e-01, ...,\n        6.10038164e-01, 3.66492393e-03, 9.99998551e-01]])\nCoordinates:\n  * topic    (topic) int32 0 1 2 3 4 5 6 7 8 9 10 11 12 13 14 15 16 17 18 19\n  * id       (id) object &#x27;0&#x27; &#x27;1&#x27; &#x27;2&#x27; &#x27;3&#x27; &#x27;4&#x27; ... &#x27;25222&#x27; &#x27;25223&#x27; &#x27;25227&#x27; &#x27;25231&#x27;</pre><div class='xr-wrap' hidden><div class='xr-header'><div class='xr-obj-type'>xarray.DataArray</div><div class='xr-array-name'></div><ul class='xr-dim-list'><li><span class='xr-has-index'>id</span>: 17091</li><li><span class='xr-has-index'>topic</span>: 20</li></ul></div><ul class='xr-sections'><li class='xr-section-item'><div class='xr-array-wrap'><input id='section-e072cbdc-3ba8-4d02-bb5e-f2a6f4965ef6' class='xr-array-in' type='checkbox' checked><label for='section-e072cbdc-3ba8-4d02-bb5e-f2a6f4965ef6' title='Show/hide data repr'><svg class='icon xr-icon-database'><use xlink:href='#icon-database'></use></svg></label><div class='xr-array-preview xr-preview'><span>1e-06 1e-06 0.8072 1e-06 9.692e-05 ... 0.0001269 0.61 0.003665 1.0</span></div><div class='xr-array-data'><pre>array([[1.00000000e-06, 1.00000000e-06, 8.07243687e-01, ...,\n        9.75014115e-01, 8.67052779e-02, 7.41620865e-04],\n       [1.00000000e-06, 1.00000000e-06, 9.99998510e-01, ...,\n        8.93587716e-01, 3.64793547e-03, 5.14211115e-02],\n       [9.99999000e-01, 1.17140227e-05, 1.22043455e-01, ...,\n        9.69306253e-01, 3.78608990e-03, 5.16458959e-03],\n       ...,\n       [1.00000000e-06, 1.00000000e-06, 9.04189125e-01, ...,\n        6.57774215e-05, 7.00021063e-03, 5.12277644e-02],\n       [1.00000000e-06, 1.00000000e-06, 9.99999000e-01, ...,\n        2.68782147e-01, 9.99999000e-01, 7.41872352e-04],\n       [1.00000000e-06, 1.34382863e-05, 9.99999000e-01, ...,\n        6.10038164e-01, 3.66492393e-03, 9.99998551e-01]])</pre></div></div></li><li class='xr-section-item'><input id='section-6834a548-e98d-4ebb-9394-f65b6d79dbb9' class='xr-section-summary-in' type='checkbox'  checked><label for='section-6834a548-e98d-4ebb-9394-f65b6d79dbb9' class='xr-section-summary' >Coordinates: <span>(2)</span></label><div class='xr-section-inline-details'></div><div class='xr-section-details'><ul class='xr-var-list'><li class='xr-var-item'><div class='xr-var-name'><span class='xr-has-index'>topic</span></div><div class='xr-var-dims'>(topic)</div><div class='xr-var-dtype'>int32</div><div class='xr-var-preview xr-preview'>0 1 2 3 4 5 6 ... 14 15 16 17 18 19</div><input id='attrs-e5f73436-bb3f-486c-a707-ac8a0149f197' class='xr-var-attrs-in' type='checkbox' disabled><label for='attrs-e5f73436-bb3f-486c-a707-ac8a0149f197' title='Show/Hide attributes'><svg class='icon xr-icon-file-text2'><use xlink:href='#icon-file-text2'></use></svg></label><input id='data-d2f64e90-14a2-4275-9182-388148ac1510' class='xr-var-data-in' type='checkbox'><label for='data-d2f64e90-14a2-4275-9182-388148ac1510' title='Show/Hide data repr'><svg class='icon xr-icon-database'><use xlink:href='#icon-database'></use></svg></label><div class='xr-var-attrs'><dl class='xr-attrs'></dl></div><div class='xr-var-data'><pre>array([ 0,  1,  2,  3,  4,  5,  6,  7,  8,  9, 10, 11, 12, 13, 14, 15, 16, 17,\n       18, 19])</pre></div></li><li class='xr-var-item'><div class='xr-var-name'><span class='xr-has-index'>id</span></div><div class='xr-var-dims'>(id)</div><div class='xr-var-dtype'>object</div><div class='xr-var-preview xr-preview'>&#x27;0&#x27; &#x27;1&#x27; &#x27;2&#x27; ... &#x27;25227&#x27; &#x27;25231&#x27;</div><input id='attrs-d58ab21a-217d-4f22-ad16-6739c53db569' class='xr-var-attrs-in' type='checkbox' disabled><label for='attrs-d58ab21a-217d-4f22-ad16-6739c53db569' title='Show/Hide attributes'><svg class='icon xr-icon-file-text2'><use xlink:href='#icon-file-text2'></use></svg></label><input id='data-d92a6e71-236a-45d2-89bc-e1ab4d3b4fb0' class='xr-var-data-in' type='checkbox'><label for='data-d92a6e71-236a-45d2-89bc-e1ab4d3b4fb0' title='Show/Hide data repr'><svg class='icon xr-icon-database'><use xlink:href='#icon-database'></use></svg></label><div class='xr-var-attrs'><dl class='xr-attrs'></dl></div><div class='xr-var-data'><pre>array([&#x27;0&#x27;, &#x27;1&#x27;, &#x27;2&#x27;, ..., &#x27;25223&#x27;, &#x27;25227&#x27;, &#x27;25231&#x27;], dtype=object)</pre></div></li></ul></div></li><li class='xr-section-item'><input id='section-6f654a6b-d10b-42bd-bbd4-44b48765cdf4' class='xr-section-summary-in' type='checkbox' disabled ><label for='section-6f654a6b-d10b-42bd-bbd4-44b48765cdf4' class='xr-section-summary'  title='Expand/collapse section'>Attributes: <span>(0)</span></label><div class='xr-section-inline-details'></div><div class='xr-section-details'><dl class='xr-attrs'></dl></div></li></ul></div></div>",
      "text/plain": "<xarray.DataArray (id: 17091, topic: 20)>\narray([[1.00000000e-06, 1.00000000e-06, 8.07243687e-01, ...,\n        9.75014115e-01, 8.67052779e-02, 7.41620865e-04],\n       [1.00000000e-06, 1.00000000e-06, 9.99998510e-01, ...,\n        8.93587716e-01, 3.64793547e-03, 5.14211115e-02],\n       [9.99999000e-01, 1.17140227e-05, 1.22043455e-01, ...,\n        9.69306253e-01, 3.78608990e-03, 5.16458959e-03],\n       ...,\n       [1.00000000e-06, 1.00000000e-06, 9.04189125e-01, ...,\n        6.57774215e-05, 7.00021063e-03, 5.12277644e-02],\n       [1.00000000e-06, 1.00000000e-06, 9.99999000e-01, ...,\n        2.68782147e-01, 9.99999000e-01, 7.41872352e-04],\n       [1.00000000e-06, 1.34382863e-05, 9.99999000e-01, ...,\n        6.10038164e-01, 3.66492393e-03, 9.99998551e-01]])\nCoordinates:\n  * topic    (topic) int32 0 1 2 3 4 5 6 7 8 9 10 11 12 13 14 15 16 17 18 19\n  * id       (id) object '0' '1' '2' '3' '4' ... '25222' '25223' '25227' '25231'"
     },
     "execution_count": 86,
     "metadata": {},
     "output_type": "execute_result"
    }
   ],
   "source": [
    "import xarray as xr\r\n",
    "n_topics = doc_topic_prob.shape[1]\r\n",
    "n_docs = doc_topic_prob.shape[0]\r\n",
    "\r\n",
    "da = xr.DataArray(doc_topic_prob, coords= {'topic': range(n_topics), 'id' : df_text.index.values}, dims = ['id', 'topic'])\r\n",
    "da"
   ]
  },
  {
   "cell_type": "code",
   "execution_count": 87,
   "metadata": {},
   "outputs": [],
   "source": [
    "%matplotlib inline"
   ]
  },
  {
   "cell_type": "code",
   "execution_count": 88,
   "metadata": {},
   "outputs": [
    {
     "data": {
      "text/plain": "(array([3.010e+02, 4.151e+03, 5.785e+03, 4.835e+03, 1.680e+03, 2.790e+02,\n        5.000e+01, 7.000e+00, 2.000e+00, 1.000e+00]),\n array([0.01618048, 0.09456237, 0.17294426, 0.25132615, 0.32970805,\n        0.40808994, 0.48647183, 0.56485372, 0.64323562, 0.72161751,\n        0.7999994 ]),\n <a list of 10 Patch objects>)"
     },
     "execution_count": 88,
     "metadata": {},
     "output_type": "execute_result"
    },
    {
     "data": {
      "image/png": "[encoded data removed]",
      "text/plain": "<Figure size 432x288 with 1 Axes>"
     },
     "metadata": {
      "needs_background": "light"
     },
     "output_type": "display_data"
    }
   ],
   "source": [
    "da.mean('topic').plot.hist()"
   ]
  },
  {
   "cell_type": "code",
   "execution_count": 89,
   "metadata": {},
   "outputs": [
    {
     "data": {
      "text/plain": "(array([5., 3., 4., 2., 3., 1., 1., 0., 0., 1.]),\n array([0.06986237, 0.12447011, 0.17907786, 0.23368561, 0.28829336,\n        0.34290111, 0.39750886, 0.45211661, 0.50672435, 0.5613321 ,\n        0.61593985]),\n <a list of 10 Patch objects>)"
     },
     "execution_count": 89,
     "metadata": {},
     "output_type": "execute_result"
    },
    {
     "data": {
      "image/png": "[encoded data removed]",
      "text/plain": "<Figure size 432x288 with 1 Axes>"
     },
     "metadata": {
      "needs_background": "light"
     },
     "output_type": "display_data"
    }
   ],
   "source": [
    "da.mean('id').plot.hist()"
   ]
  },
  {
   "cell_type": "code",
   "execution_count": 90,
   "metadata": {},
   "outputs": [
    {
     "data": {
      "text/html": "<div><svg style=\"position: absolute; width: 0; height: 0; overflow: hidden\">\n<defs>\n<symbol id=\"icon-database\" viewBox=\"0 0 32 32\">\n<path d=\"M16 0c-8.837 0-16 2.239-16 5v4c0 2.761 7.163 5 16 5s16-2.239 16-5v-4c0-2.761-7.163-5-16-5z\"></path>\n<path d=\"M16 17c-8.837 0-16-2.239-16-5v6c0 2.761 7.163 5 16 5s16-2.239 16-5v-6c0 2.761-7.163 5-16 5z\"></path>\n<path d=\"M16 26c-8.837 0-16-2.239-16-5v6c0 2.761 7.163 5 16 5s16-2.239 16-5v-6c0 2.761-7.163 5-16 5z\"></path>\n</symbol>\n<symbol id=\"icon-file-text2\" viewBox=\"0 0 32 32\">\n<path d=\"M28.681 7.159c-0.694-0.947-1.662-2.053-2.724-3.116s-2.169-2.030-3.116-2.724c-1.612-1.182-2.393-1.319-2.841-1.319h-15.5c-1.378 0-2.5 1.121-2.5 2.5v27c0 1.378 1.122 2.5 2.5 2.5h23c1.378 0 2.5-1.122 2.5-2.5v-19.5c0-0.448-0.137-1.23-1.319-2.841zM24.543 5.457c0.959 0.959 1.712 1.825 2.268 2.543h-4.811v-4.811c0.718 0.556 1.584 1.309 2.543 2.268zM28 29.5c0 0.271-0.229 0.5-0.5 0.5h-23c-0.271 0-0.5-0.229-0.5-0.5v-27c0-0.271 0.229-0.5 0.5-0.5 0 0 15.499-0 15.5 0v7c0 0.552 0.448 1 1 1h7v19.5z\"></path>\n<path d=\"M23 26h-14c-0.552 0-1-0.448-1-1s0.448-1 1-1h14c0.552 0 1 0.448 1 1s-0.448 1-1 1z\"></path>\n<path d=\"M23 22h-14c-0.552 0-1-0.448-1-1s0.448-1 1-1h14c0.552 0 1 0.448 1 1s-0.448 1-1 1z\"></path>\n<path d=\"M23 18h-14c-0.552 0-1-0.448-1-1s0.448-1 1-1h14c0.552 0 1 0.448 1 1s-0.448 1-1 1z\"></path>\n</symbol>\n</defs>\n</svg>\n<style>/* CSS stylesheet for displaying xarray objects in jupyterlab.\n *\n */\n\n:root {\n  --xr-font-color0: var(--jp-content-font-color0, rgba(0, 0, 0, 1));\n  --xr-font-color2: var(--jp-content-font-color2, rgba(0, 0, 0, 0.54));\n  --xr-font-color3: var(--jp-content-font-color3, rgba(0, 0, 0, 0.38));\n  --xr-border-color: var(--jp-border-color2, #e0e0e0);\n  --xr-disabled-color: var(--jp-layout-color3, #bdbdbd);\n  --xr-background-color: var(--jp-layout-color0, white);\n  --xr-background-color-row-even: var(--jp-layout-color1, white);\n  --xr-background-color-row-odd: var(--jp-layout-color2, #eeeeee);\n}\n\nhtml[theme=dark],\nbody.vscode-dark {\n  --xr-font-color0: rgba(255, 255, 255, 1);\n  --xr-font-color2: rgba(255, 255, 255, 0.54);\n  --xr-font-color3: rgba(255, 255, 255, 0.38);\n  --xr-border-color: #1F1F1F;\n  --xr-disabled-color: #515151;\n  --xr-background-color: #111111;\n  --xr-background-color-row-even: #111111;\n  --xr-background-color-row-odd: #313131;\n}\n\n.xr-wrap {\n  display: block;\n  min-width: 300px;\n  max-width: 700px;\n}\n\n.xr-text-repr-fallback {\n  /* fallback to plain text repr when CSS is not injected (untrusted notebook) */\n  display: none;\n}\n\n.xr-header {\n  padding-top: 6px;\n  padding-bottom: 6px;\n  margin-bottom: 4px;\n  border-bottom: solid 1px var(--xr-border-color);\n}\n\n.xr-header > div,\n.xr-header > ul {\n  display: inline;\n  margin-top: 0;\n  margin-bottom: 0;\n}\n\n.xr-obj-type,\n.xr-array-name {\n  margin-left: 2px;\n  margin-right: 10px;\n}\n\n.xr-obj-type {\n  color: var(--xr-font-color2);\n}\n\n.xr-sections {\n  padding-left: 0 !important;\n  display: grid;\n  grid-template-columns: 150px auto auto 1fr 20px 20px;\n}\n\n.xr-section-item {\n  display: contents;\n}\n\n.xr-section-item input {\n  display: none;\n}\n\n.xr-section-item input + label {\n  color: var(--xr-disabled-color);\n}\n\n.xr-section-item input:enabled + label {\n  cursor: pointer;\n  color: var(--xr-font-color2);\n}\n\n.xr-section-item input:enabled + label:hover {\n  color: var(--xr-font-color0);\n}\n\n.xr-section-summary {\n  grid-column: 1;\n  color: var(--xr-font-color2);\n  font-weight: 500;\n}\n\n.xr-section-summary > span {\n  display: inline-block;\n  padding-left: 0.5em;\n}\n\n.xr-section-summary-in:disabled + label {\n  color: var(--xr-font-color2);\n}\n\n.xr-section-summary-in + label:before {\n  display: inline-block;\n  content: '►';\n  font-size: 11px;\n  width: 15px;\n  text-align: center;\n}\n\n.xr-section-summary-in:disabled + label:before {\n  color: var(--xr-disabled-color);\n}\n\n.xr-section-summary-in:checked + label:before {\n  content: '▼';\n}\n\n.xr-section-summary-in:checked + label > span {\n  display: none;\n}\n\n.xr-section-summary,\n.xr-section-inline-details {\n  padding-top: 4px;\n  padding-bottom: 4px;\n}\n\n.xr-section-inline-details {\n  grid-column: 2 / -1;\n}\n\n.xr-section-details {\n  display: none;\n  grid-column: 1 / -1;\n  margin-bottom: 5px;\n}\n\n.xr-section-summary-in:checked ~ .xr-section-details {\n  display: contents;\n}\n\n.xr-array-wrap {\n  grid-column: 1 / -1;\n  display: grid;\n  grid-template-columns: 20px auto;\n}\n\n.xr-array-wrap > label {\n  grid-column: 1;\n  vertical-align: top;\n}\n\n.xr-preview {\n  color: var(--xr-font-color3);\n}\n\n.xr-array-preview,\n.xr-array-data {\n  padding: 0 5px !important;\n  grid-column: 2;\n}\n\n.xr-array-data,\n.xr-array-in:checked ~ .xr-array-preview {\n  display: none;\n}\n\n.xr-array-in:checked ~ .xr-array-data,\n.xr-array-preview {\n  display: inline-block;\n}\n\n.xr-dim-list {\n  display: inline-block !important;\n  list-style: none;\n  padding: 0 !important;\n  margin: 0;\n}\n\n.xr-dim-list li {\n  display: inline-block;\n  padding: 0;\n  margin: 0;\n}\n\n.xr-dim-list:before {\n  content: '(';\n}\n\n.xr-dim-list:after {\n  content: ')';\n}\n\n.xr-dim-list li:not(:last-child):after {\n  content: ',';\n  padding-right: 5px;\n}\n\n.xr-has-index {\n  font-weight: bold;\n}\n\n.xr-var-list,\n.xr-var-item {\n  display: contents;\n}\n\n.xr-var-item > div,\n.xr-var-item label,\n.xr-var-item > .xr-var-name span {\n  background-color: var(--xr-background-color-row-even);\n  margin-bottom: 0;\n}\n\n.xr-var-item > .xr-var-name:hover span {\n  padding-right: 5px;\n}\n\n.xr-var-list > li:nth-child(odd) > div,\n.xr-var-list > li:nth-child(odd) > label,\n.xr-var-list > li:nth-child(odd) > .xr-var-name span {\n  background-color: var(--xr-background-color-row-odd);\n}\n\n.xr-var-name {\n  grid-column: 1;\n}\n\n.xr-var-dims {\n  grid-column: 2;\n}\n\n.xr-var-dtype {\n  grid-column: 3;\n  text-align: right;\n  color: var(--xr-font-color2);\n}\n\n.xr-var-preview {\n  grid-column: 4;\n}\n\n.xr-var-name,\n.xr-var-dims,\n.xr-var-dtype,\n.xr-preview,\n.xr-attrs dt {\n  white-space: nowrap;\n  overflow: hidden;\n  text-overflow: ellipsis;\n  padding-right: 10px;\n}\n\n.xr-var-name:hover,\n.xr-var-dims:hover,\n.xr-var-dtype:hover,\n.xr-attrs dt:hover {\n  overflow: visible;\n  width: auto;\n  z-index: 1;\n}\n\n.xr-var-attrs,\n.xr-var-data {\n  display: none;\n  background-color: var(--xr-background-color) !important;\n  padding-bottom: 5px !important;\n}\n\n.xr-var-attrs-in:checked ~ .xr-var-attrs,\n.xr-var-data-in:checked ~ .xr-var-data {\n  display: block;\n}\n\n.xr-var-data > table {\n  float: right;\n}\n\n.xr-var-name span,\n.xr-var-data,\n.xr-attrs {\n  padding-left: 25px !important;\n}\n\n.xr-attrs,\n.xr-var-attrs,\n.xr-var-data {\n  grid-column: 1 / -1;\n}\n\ndl.xr-attrs {\n  padding: 0;\n  margin: 0;\n  display: grid;\n  grid-template-columns: 125px auto;\n}\n\n.xr-attrs dt, dd {\n  padding: 0;\n  margin: 0;\n  float: left;\n  padding-right: 10px;\n  width: auto;\n}\n\n.xr-attrs dt {\n  font-weight: normal;\n  grid-column: 1;\n}\n\n.xr-attrs dt:hover span {\n  display: inline-block;\n  background: var(--xr-background-color);\n  padding-right: 10px;\n}\n\n.xr-attrs dd {\n  grid-column: 2;\n  white-space: pre-wrap;\n  word-break: break-all;\n}\n\n.xr-icon-database,\n.xr-icon-file-text2 {\n  display: inline-block;\n  vertical-align: middle;\n  width: 1em;\n  height: 1.5em !important;\n  stroke-width: 0;\n  stroke: currentColor;\n  fill: currentColor;\n}\n</style><pre class='xr-text-repr-fallback'>&lt;xarray.DataArray (id: 17091)&gt;\narray([0.19348373, 0.14197411, 0.2057467 , ..., 0.16859875, 0.46238409,\n       0.27881241])\nCoordinates:\n  * id       (id) object &#x27;0&#x27; &#x27;1&#x27; &#x27;2&#x27; &#x27;3&#x27; &#x27;4&#x27; ... &#x27;25222&#x27; &#x27;25223&#x27; &#x27;25227&#x27; &#x27;25231&#x27;</pre><div class='xr-wrap' hidden><div class='xr-header'><div class='xr-obj-type'>xarray.DataArray</div><div class='xr-array-name'></div><ul class='xr-dim-list'><li><span class='xr-has-index'>id</span>: 17091</li></ul></div><ul class='xr-sections'><li class='xr-section-item'><div class='xr-array-wrap'><input id='section-4dd43a04-fcfa-4b23-986d-00929aec5cc2' class='xr-array-in' type='checkbox' checked><label for='section-4dd43a04-fcfa-4b23-986d-00929aec5cc2' title='Show/hide data repr'><svg class='icon xr-icon-database'><use xlink:href='#icon-database'></use></svg></label><div class='xr-array-preview xr-preview'><span>0.1935 0.142 0.2057 0.3074 0.1758 ... 0.2823 0.1686 0.4624 0.2788</span></div><div class='xr-array-data'><pre>array([0.19348373, 0.14197411, 0.2057467 , ..., 0.16859875, 0.46238409,\n       0.27881241])</pre></div></div></li><li class='xr-section-item'><input id='section-fb5fa60d-b574-46e1-bfcb-c3633d52e381' class='xr-section-summary-in' type='checkbox'  checked><label for='section-fb5fa60d-b574-46e1-bfcb-c3633d52e381' class='xr-section-summary' >Coordinates: <span>(1)</span></label><div class='xr-section-inline-details'></div><div class='xr-section-details'><ul class='xr-var-list'><li class='xr-var-item'><div class='xr-var-name'><span class='xr-has-index'>id</span></div><div class='xr-var-dims'>(id)</div><div class='xr-var-dtype'>object</div><div class='xr-var-preview xr-preview'>&#x27;0&#x27; &#x27;1&#x27; &#x27;2&#x27; ... &#x27;25227&#x27; &#x27;25231&#x27;</div><input id='attrs-da7a09e8-dc40-4020-871c-e965bc3d358c' class='xr-var-attrs-in' type='checkbox' disabled><label for='attrs-da7a09e8-dc40-4020-871c-e965bc3d358c' title='Show/Hide attributes'><svg class='icon xr-icon-file-text2'><use xlink:href='#icon-file-text2'></use></svg></label><input id='data-0c60baf6-a95a-472d-a2ca-0ead2115faf1' class='xr-var-data-in' type='checkbox'><label for='data-0c60baf6-a95a-472d-a2ca-0ead2115faf1' title='Show/Hide data repr'><svg class='icon xr-icon-database'><use xlink:href='#icon-database'></use></svg></label><div class='xr-var-attrs'><dl class='xr-attrs'></dl></div><div class='xr-var-data'><pre>array([&#x27;0&#x27;, &#x27;1&#x27;, &#x27;2&#x27;, ..., &#x27;25223&#x27;, &#x27;25227&#x27;, &#x27;25231&#x27;], dtype=object)</pre></div></li></ul></div></li><li class='xr-section-item'><input id='section-7fe6ce23-a471-410a-989d-eaa7a0b845f2' class='xr-section-summary-in' type='checkbox' disabled ><label for='section-7fe6ce23-a471-410a-989d-eaa7a0b845f2' class='xr-section-summary'  title='Expand/collapse section'>Attributes: <span>(0)</span></label><div class='xr-section-inline-details'></div><div class='xr-section-details'><dl class='xr-attrs'></dl></div></li></ul></div></div>",
      "text/plain": "<xarray.DataArray (id: 17091)>\narray([0.19348373, 0.14197411, 0.2057467 , ..., 0.16859875, 0.46238409,\n       0.27881241])\nCoordinates:\n  * id       (id) object '0' '1' '2' '3' '4' ... '25222' '25223' '25227' '25231'"
     },
     "execution_count": 90,
     "metadata": {},
     "output_type": "execute_result"
    }
   ],
   "source": [
    "da.mean('topic')"
   ]
  },
  {
   "cell_type": "code",
   "execution_count": 91,
   "metadata": {},
   "outputs": [
    {
     "data": {
      "text/html": "<div><svg style=\"position: absolute; width: 0; height: 0; overflow: hidden\">\n<defs>\n<symbol id=\"icon-database\" viewBox=\"0 0 32 32\">\n<path d=\"M16 0c-8.837 0-16 2.239-16 5v4c0 2.761 7.163 5 16 5s16-2.239 16-5v-4c0-2.761-7.163-5-16-5z\"></path>\n<path d=\"M16 17c-8.837 0-16-2.239-16-5v6c0 2.761 7.163 5 16 5s16-2.239 16-5v-6c0 2.761-7.163 5-16 5z\"></path>\n<path d=\"M16 26c-8.837 0-16-2.239-16-5v6c0 2.761 7.163 5 16 5s16-2.239 16-5v-6c0 2.761-7.163 5-16 5z\"></path>\n</symbol>\n<symbol id=\"icon-file-text2\" viewBox=\"0 0 32 32\">\n<path d=\"M28.681 7.159c-0.694-0.947-1.662-2.053-2.724-3.116s-2.169-2.030-3.116-2.724c-1.612-1.182-2.393-1.319-2.841-1.319h-15.5c-1.378 0-2.5 1.121-2.5 2.5v27c0 1.378 1.122 2.5 2.5 2.5h23c1.378 0 2.5-1.122 2.5-2.5v-19.5c0-0.448-0.137-1.23-1.319-2.841zM24.543 5.457c0.959 0.959 1.712 1.825 2.268 2.543h-4.811v-4.811c0.718 0.556 1.584 1.309 2.543 2.268zM28 29.5c0 0.271-0.229 0.5-0.5 0.5h-23c-0.271 0-0.5-0.229-0.5-0.5v-27c0-0.271 0.229-0.5 0.5-0.5 0 0 15.499-0 15.5 0v7c0 0.552 0.448 1 1 1h7v19.5z\"></path>\n<path d=\"M23 26h-14c-0.552 0-1-0.448-1-1s0.448-1 1-1h14c0.552 0 1 0.448 1 1s-0.448 1-1 1z\"></path>\n<path d=\"M23 22h-14c-0.552 0-1-0.448-1-1s0.448-1 1-1h14c0.552 0 1 0.448 1 1s-0.448 1-1 1z\"></path>\n<path d=\"M23 18h-14c-0.552 0-1-0.448-1-1s0.448-1 1-1h14c0.552 0 1 0.448 1 1s-0.448 1-1 1z\"></path>\n</symbol>\n</defs>\n</svg>\n<style>/* CSS stylesheet for displaying xarray objects in jupyterlab.\n *\n */\n\n:root {\n  --xr-font-color0: var(--jp-content-font-color0, rgba(0, 0, 0, 1));\n  --xr-font-color2: var(--jp-content-font-color2, rgba(0, 0, 0, 0.54));\n  --xr-font-color3: var(--jp-content-font-color3, rgba(0, 0, 0, 0.38));\n  --xr-border-color: var(--jp-border-color2, #e0e0e0);\n  --xr-disabled-color: var(--jp-layout-color3, #bdbdbd);\n  --xr-background-color: var(--jp-layout-color0, white);\n  --xr-background-color-row-even: var(--jp-layout-color1, white);\n  --xr-background-color-row-odd: var(--jp-layout-color2, #eeeeee);\n}\n\nhtml[theme=dark],\nbody.vscode-dark {\n  --xr-font-color0: rgba(255, 255, 255, 1);\n  --xr-font-color2: rgba(255, 255, 255, 0.54);\n  --xr-font-color3: rgba(255, 255, 255, 0.38);\n  --xr-border-color: #1F1F1F;\n  --xr-disabled-color: #515151;\n  --xr-background-color: #111111;\n  --xr-background-color-row-even: #111111;\n  --xr-background-color-row-odd: #313131;\n}\n\n.xr-wrap {\n  display: block;\n  min-width: 300px;\n  max-width: 700px;\n}\n\n.xr-text-repr-fallback {\n  /* fallback to plain text repr when CSS is not injected (untrusted notebook) */\n  display: none;\n}\n\n.xr-header {\n  padding-top: 6px;\n  padding-bottom: 6px;\n  margin-bottom: 4px;\n  border-bottom: solid 1px var(--xr-border-color);\n}\n\n.xr-header > div,\n.xr-header > ul {\n  display: inline;\n  margin-top: 0;\n  margin-bottom: 0;\n}\n\n.xr-obj-type,\n.xr-array-name {\n  margin-left: 2px;\n  margin-right: 10px;\n}\n\n.xr-obj-type {\n  color: var(--xr-font-color2);\n}\n\n.xr-sections {\n  padding-left: 0 !important;\n  display: grid;\n  grid-template-columns: 150px auto auto 1fr 20px 20px;\n}\n\n.xr-section-item {\n  display: contents;\n}\n\n.xr-section-item input {\n  display: none;\n}\n\n.xr-section-item input + label {\n  color: var(--xr-disabled-color);\n}\n\n.xr-section-item input:enabled + label {\n  cursor: pointer;\n  color: var(--xr-font-color2);\n}\n\n.xr-section-item input:enabled + label:hover {\n  color: var(--xr-font-color0);\n}\n\n.xr-section-summary {\n  grid-column: 1;\n  color: var(--xr-font-color2);\n  font-weight: 500;\n}\n\n.xr-section-summary > span {\n  display: inline-block;\n  padding-left: 0.5em;\n}\n\n.xr-section-summary-in:disabled + label {\n  color: var(--xr-font-color2);\n}\n\n.xr-section-summary-in + label:before {\n  display: inline-block;\n  content: '►';\n  font-size: 11px;\n  width: 15px;\n  text-align: center;\n}\n\n.xr-section-summary-in:disabled + label:before {\n  color: var(--xr-disabled-color);\n}\n\n.xr-section-summary-in:checked + label:before {\n  content: '▼';\n}\n\n.xr-section-summary-in:checked + label > span {\n  display: none;\n}\n\n.xr-section-summary,\n.xr-section-inline-details {\n  padding-top: 4px;\n  padding-bottom: 4px;\n}\n\n.xr-section-inline-details {\n  grid-column: 2 / -1;\n}\n\n.xr-section-details {\n  display: none;\n  grid-column: 1 / -1;\n  margin-bottom: 5px;\n}\n\n.xr-section-summary-in:checked ~ .xr-section-details {\n  display: contents;\n}\n\n.xr-array-wrap {\n  grid-column: 1 / -1;\n  display: grid;\n  grid-template-columns: 20px auto;\n}\n\n.xr-array-wrap > label {\n  grid-column: 1;\n  vertical-align: top;\n}\n\n.xr-preview {\n  color: var(--xr-font-color3);\n}\n\n.xr-array-preview,\n.xr-array-data {\n  padding: 0 5px !important;\n  grid-column: 2;\n}\n\n.xr-array-data,\n.xr-array-in:checked ~ .xr-array-preview {\n  display: none;\n}\n\n.xr-array-in:checked ~ .xr-array-data,\n.xr-array-preview {\n  display: inline-block;\n}\n\n.xr-dim-list {\n  display: inline-block !important;\n  list-style: none;\n  padding: 0 !important;\n  margin: 0;\n}\n\n.xr-dim-list li {\n  display: inline-block;\n  padding: 0;\n  margin: 0;\n}\n\n.xr-dim-list:before {\n  content: '(';\n}\n\n.xr-dim-list:after {\n  content: ')';\n}\n\n.xr-dim-list li:not(:last-child):after {\n  content: ',';\n  padding-right: 5px;\n}\n\n.xr-has-index {\n  font-weight: bold;\n}\n\n.xr-var-list,\n.xr-var-item {\n  display: contents;\n}\n\n.xr-var-item > div,\n.xr-var-item label,\n.xr-var-item > .xr-var-name span {\n  background-color: var(--xr-background-color-row-even);\n  margin-bottom: 0;\n}\n\n.xr-var-item > .xr-var-name:hover span {\n  padding-right: 5px;\n}\n\n.xr-var-list > li:nth-child(odd) > div,\n.xr-var-list > li:nth-child(odd) > label,\n.xr-var-list > li:nth-child(odd) > .xr-var-name span {\n  background-color: var(--xr-background-color-row-odd);\n}\n\n.xr-var-name {\n  grid-column: 1;\n}\n\n.xr-var-dims {\n  grid-column: 2;\n}\n\n.xr-var-dtype {\n  grid-column: 3;\n  text-align: right;\n  color: var(--xr-font-color2);\n}\n\n.xr-var-preview {\n  grid-column: 4;\n}\n\n.xr-var-name,\n.xr-var-dims,\n.xr-var-dtype,\n.xr-preview,\n.xr-attrs dt {\n  white-space: nowrap;\n  overflow: hidden;\n  text-overflow: ellipsis;\n  padding-right: 10px;\n}\n\n.xr-var-name:hover,\n.xr-var-dims:hover,\n.xr-var-dtype:hover,\n.xr-attrs dt:hover {\n  overflow: visible;\n  width: auto;\n  z-index: 1;\n}\n\n.xr-var-attrs,\n.xr-var-data {\n  display: none;\n  background-color: var(--xr-background-color) !important;\n  padding-bottom: 5px !important;\n}\n\n.xr-var-attrs-in:checked ~ .xr-var-attrs,\n.xr-var-data-in:checked ~ .xr-var-data {\n  display: block;\n}\n\n.xr-var-data > table {\n  float: right;\n}\n\n.xr-var-name span,\n.xr-var-data,\n.xr-attrs {\n  padding-left: 25px !important;\n}\n\n.xr-attrs,\n.xr-var-attrs,\n.xr-var-data {\n  grid-column: 1 / -1;\n}\n\ndl.xr-attrs {\n  padding: 0;\n  margin: 0;\n  display: grid;\n  grid-template-columns: 125px auto;\n}\n\n.xr-attrs dt, dd {\n  padding: 0;\n  margin: 0;\n  float: left;\n  padding-right: 10px;\n  width: auto;\n}\n\n.xr-attrs dt {\n  font-weight: normal;\n  grid-column: 1;\n}\n\n.xr-attrs dt:hover span {\n  display: inline-block;\n  background: var(--xr-background-color);\n  padding-right: 10px;\n}\n\n.xr-attrs dd {\n  grid-column: 2;\n  white-space: pre-wrap;\n  word-break: break-all;\n}\n\n.xr-icon-database,\n.xr-icon-file-text2 {\n  display: inline-block;\n  vertical-align: middle;\n  width: 1em;\n  height: 1.5em !important;\n  stroke-width: 0;\n  stroke: currentColor;\n  fill: currentColor;\n}\n</style><pre class='xr-text-repr-fallback'>&lt;xarray.DataArray (id: 17091)&gt;\narray([3.86967457, 2.83948212, 4.11493403, ..., 3.37197504, 9.2476819 ,\n       5.57624813])\nCoordinates:\n  * id       (id) object &#x27;0&#x27; &#x27;1&#x27; &#x27;2&#x27; &#x27;3&#x27; &#x27;4&#x27; ... &#x27;25222&#x27; &#x27;25223&#x27; &#x27;25227&#x27; &#x27;25231&#x27;</pre><div class='xr-wrap' hidden><div class='xr-header'><div class='xr-obj-type'>xarray.DataArray</div><div class='xr-array-name'></div><ul class='xr-dim-list'><li><span class='xr-has-index'>id</span>: 17091</li></ul></div><ul class='xr-sections'><li class='xr-section-item'><div class='xr-array-wrap'><input id='section-4237763d-b4d9-45e8-bf51-457290933b52' class='xr-array-in' type='checkbox' checked><label for='section-4237763d-b4d9-45e8-bf51-457290933b52' title='Show/hide data repr'><svg class='icon xr-icon-database'><use xlink:href='#icon-database'></use></svg></label><div class='xr-array-preview xr-preview'><span>3.87 2.839 4.115 6.149 3.515 4.334 ... 2.171 5.646 3.372 9.248 5.576</span></div><div class='xr-array-data'><pre>array([3.86967457, 2.83948212, 4.11493403, ..., 3.37197504, 9.2476819 ,\n       5.57624813])</pre></div></div></li><li class='xr-section-item'><input id='section-b233cd14-4938-4d39-b37d-61b447ffc275' class='xr-section-summary-in' type='checkbox'  checked><label for='section-b233cd14-4938-4d39-b37d-61b447ffc275' class='xr-section-summary' >Coordinates: <span>(1)</span></label><div class='xr-section-inline-details'></div><div class='xr-section-details'><ul class='xr-var-list'><li class='xr-var-item'><div class='xr-var-name'><span class='xr-has-index'>id</span></div><div class='xr-var-dims'>(id)</div><div class='xr-var-dtype'>object</div><div class='xr-var-preview xr-preview'>&#x27;0&#x27; &#x27;1&#x27; &#x27;2&#x27; ... &#x27;25227&#x27; &#x27;25231&#x27;</div><input id='attrs-fbcd6069-a96c-40e1-aa23-6f52cc6dc109' class='xr-var-attrs-in' type='checkbox' disabled><label for='attrs-fbcd6069-a96c-40e1-aa23-6f52cc6dc109' title='Show/Hide attributes'><svg class='icon xr-icon-file-text2'><use xlink:href='#icon-file-text2'></use></svg></label><input id='data-5026a6a2-6fb3-456d-8731-05c4e39dc57a' class='xr-var-data-in' type='checkbox'><label for='data-5026a6a2-6fb3-456d-8731-05c4e39dc57a' title='Show/Hide data repr'><svg class='icon xr-icon-database'><use xlink:href='#icon-database'></use></svg></label><div class='xr-var-attrs'><dl class='xr-attrs'></dl></div><div class='xr-var-data'><pre>array([&#x27;0&#x27;, &#x27;1&#x27;, &#x27;2&#x27;, ..., &#x27;25223&#x27;, &#x27;25227&#x27;, &#x27;25231&#x27;], dtype=object)</pre></div></li></ul></div></li><li class='xr-section-item'><input id='section-459da984-f7b8-4143-86ae-97e0ec55a2ff' class='xr-section-summary-in' type='checkbox' disabled ><label for='section-459da984-f7b8-4143-86ae-97e0ec55a2ff' class='xr-section-summary'  title='Expand/collapse section'>Attributes: <span>(0)</span></label><div class='xr-section-inline-details'></div><div class='xr-section-details'><dl class='xr-attrs'></dl></div></li></ul></div></div>",
      "text/plain": "<xarray.DataArray (id: 17091)>\narray([3.86967457, 2.83948212, 4.11493403, ..., 3.37197504, 9.2476819 ,\n       5.57624813])\nCoordinates:\n  * id       (id) object '0' '1' '2' '3' '4' ... '25222' '25223' '25227' '25231'"
     },
     "execution_count": 91,
     "metadata": {},
     "output_type": "execute_result"
    }
   ],
   "source": [
    "da.sum('topic')"
   ]
  },
  {
   "cell_type": "code",
   "execution_count": null,
   "metadata": {},
   "outputs": [],
   "source": [
    "\r\n",
    "\r\n"
   ]
  },
  {
   "cell_type": "code",
   "execution_count": 92,
   "metadata": {},
   "outputs": [],
   "source": [
    "#Normalize so each topic has total probability one (what does this do in combination with below?)\r\n",
    "theta_ij = da/da.sum('id')\r\n",
    "\r\n",
    "#Then normalize so each document has total probability 1\r\n",
    "gamma_di = theta_ij/theta_ij.sum('topic')\r\n",
    "\r\n",
    "\r\n",
    "gamma_i = (1/n_docs)*gamma_di.sum('id')\r\n",
    "\r\n",
    "gamma_di_sub = gamma_di - gamma_i\r\n",
    "\r\n"
   ]
  },
  {
   "cell_type": "code",
   "execution_count": 93,
   "metadata": {},
   "outputs": [
    {
     "data": {
      "text/html": "<div><svg style=\"position: absolute; width: 0; height: 0; overflow: hidden\">\n<defs>\n<symbol id=\"icon-database\" viewBox=\"0 0 32 32\">\n<path d=\"M16 0c-8.837 0-16 2.239-16 5v4c0 2.761 7.163 5 16 5s16-2.239 16-5v-4c0-2.761-7.163-5-16-5z\"></path>\n<path d=\"M16 17c-8.837 0-16-2.239-16-5v6c0 2.761 7.163 5 16 5s16-2.239 16-5v-6c0 2.761-7.163 5-16 5z\"></path>\n<path d=\"M16 26c-8.837 0-16-2.239-16-5v6c0 2.761 7.163 5 16 5s16-2.239 16-5v-6c0 2.761-7.163 5-16 5z\"></path>\n</symbol>\n<symbol id=\"icon-file-text2\" viewBox=\"0 0 32 32\">\n<path d=\"M28.681 7.159c-0.694-0.947-1.662-2.053-2.724-3.116s-2.169-2.030-3.116-2.724c-1.612-1.182-2.393-1.319-2.841-1.319h-15.5c-1.378 0-2.5 1.121-2.5 2.5v27c0 1.378 1.122 2.5 2.5 2.5h23c1.378 0 2.5-1.122 2.5-2.5v-19.5c0-0.448-0.137-1.23-1.319-2.841zM24.543 5.457c0.959 0.959 1.712 1.825 2.268 2.543h-4.811v-4.811c0.718 0.556 1.584 1.309 2.543 2.268zM28 29.5c0 0.271-0.229 0.5-0.5 0.5h-23c-0.271 0-0.5-0.229-0.5-0.5v-27c0-0.271 0.229-0.5 0.5-0.5 0 0 15.499-0 15.5 0v7c0 0.552 0.448 1 1 1h7v19.5z\"></path>\n<path d=\"M23 26h-14c-0.552 0-1-0.448-1-1s0.448-1 1-1h14c0.552 0 1 0.448 1 1s-0.448 1-1 1z\"></path>\n<path d=\"M23 22h-14c-0.552 0-1-0.448-1-1s0.448-1 1-1h14c0.552 0 1 0.448 1 1s-0.448 1-1 1z\"></path>\n<path d=\"M23 18h-14c-0.552 0-1-0.448-1-1s0.448-1 1-1h14c0.552 0 1 0.448 1 1s-0.448 1-1 1z\"></path>\n</symbol>\n</defs>\n</svg>\n<style>/* CSS stylesheet for displaying xarray objects in jupyterlab.\n *\n */\n\n:root {\n  --xr-font-color0: var(--jp-content-font-color0, rgba(0, 0, 0, 1));\n  --xr-font-color2: var(--jp-content-font-color2, rgba(0, 0, 0, 0.54));\n  --xr-font-color3: var(--jp-content-font-color3, rgba(0, 0, 0, 0.38));\n  --xr-border-color: var(--jp-border-color2, #e0e0e0);\n  --xr-disabled-color: var(--jp-layout-color3, #bdbdbd);\n  --xr-background-color: var(--jp-layout-color0, white);\n  --xr-background-color-row-even: var(--jp-layout-color1, white);\n  --xr-background-color-row-odd: var(--jp-layout-color2, #eeeeee);\n}\n\nhtml[theme=dark],\nbody.vscode-dark {\n  --xr-font-color0: rgba(255, 255, 255, 1);\n  --xr-font-color2: rgba(255, 255, 255, 0.54);\n  --xr-font-color3: rgba(255, 255, 255, 0.38);\n  --xr-border-color: #1F1F1F;\n  --xr-disabled-color: #515151;\n  --xr-background-color: #111111;\n  --xr-background-color-row-even: #111111;\n  --xr-background-color-row-odd: #313131;\n}\n\n.xr-wrap {\n  display: block;\n  min-width: 300px;\n  max-width: 700px;\n}\n\n.xr-text-repr-fallback {\n  /* fallback to plain text repr when CSS is not injected (untrusted notebook) */\n  display: none;\n}\n\n.xr-header {\n  padding-top: 6px;\n  padding-bottom: 6px;\n  margin-bottom: 4px;\n  border-bottom: solid 1px var(--xr-border-color);\n}\n\n.xr-header > div,\n.xr-header > ul {\n  display: inline;\n  margin-top: 0;\n  margin-bottom: 0;\n}\n\n.xr-obj-type,\n.xr-array-name {\n  margin-left: 2px;\n  margin-right: 10px;\n}\n\n.xr-obj-type {\n  color: var(--xr-font-color2);\n}\n\n.xr-sections {\n  padding-left: 0 !important;\n  display: grid;\n  grid-template-columns: 150px auto auto 1fr 20px 20px;\n}\n\n.xr-section-item {\n  display: contents;\n}\n\n.xr-section-item input {\n  display: none;\n}\n\n.xr-section-item input + label {\n  color: var(--xr-disabled-color);\n}\n\n.xr-section-item input:enabled + label {\n  cursor: pointer;\n  color: var(--xr-font-color2);\n}\n\n.xr-section-item input:enabled + label:hover {\n  color: var(--xr-font-color0);\n}\n\n.xr-section-summary {\n  grid-column: 1;\n  color: var(--xr-font-color2);\n  font-weight: 500;\n}\n\n.xr-section-summary > span {\n  display: inline-block;\n  padding-left: 0.5em;\n}\n\n.xr-section-summary-in:disabled + label {\n  color: var(--xr-font-color2);\n}\n\n.xr-section-summary-in + label:before {\n  display: inline-block;\n  content: '►';\n  font-size: 11px;\n  width: 15px;\n  text-align: center;\n}\n\n.xr-section-summary-in:disabled + label:before {\n  color: var(--xr-disabled-color);\n}\n\n.xr-section-summary-in:checked + label:before {\n  content: '▼';\n}\n\n.xr-section-summary-in:checked + label > span {\n  display: none;\n}\n\n.xr-section-summary,\n.xr-section-inline-details {\n  padding-top: 4px;\n  padding-bottom: 4px;\n}\n\n.xr-section-inline-details {\n  grid-column: 2 / -1;\n}\n\n.xr-section-details {\n  display: none;\n  grid-column: 1 / -1;\n  margin-bottom: 5px;\n}\n\n.xr-section-summary-in:checked ~ .xr-section-details {\n  display: contents;\n}\n\n.xr-array-wrap {\n  grid-column: 1 / -1;\n  display: grid;\n  grid-template-columns: 20px auto;\n}\n\n.xr-array-wrap > label {\n  grid-column: 1;\n  vertical-align: top;\n}\n\n.xr-preview {\n  color: var(--xr-font-color3);\n}\n\n.xr-array-preview,\n.xr-array-data {\n  padding: 0 5px !important;\n  grid-column: 2;\n}\n\n.xr-array-data,\n.xr-array-in:checked ~ .xr-array-preview {\n  display: none;\n}\n\n.xr-array-in:checked ~ .xr-array-data,\n.xr-array-preview {\n  display: inline-block;\n}\n\n.xr-dim-list {\n  display: inline-block !important;\n  list-style: none;\n  padding: 0 !important;\n  margin: 0;\n}\n\n.xr-dim-list li {\n  display: inline-block;\n  padding: 0;\n  margin: 0;\n}\n\n.xr-dim-list:before {\n  content: '(';\n}\n\n.xr-dim-list:after {\n  content: ')';\n}\n\n.xr-dim-list li:not(:last-child):after {\n  content: ',';\n  padding-right: 5px;\n}\n\n.xr-has-index {\n  font-weight: bold;\n}\n\n.xr-var-list,\n.xr-var-item {\n  display: contents;\n}\n\n.xr-var-item > div,\n.xr-var-item label,\n.xr-var-item > .xr-var-name span {\n  background-color: var(--xr-background-color-row-even);\n  margin-bottom: 0;\n}\n\n.xr-var-item > .xr-var-name:hover span {\n  padding-right: 5px;\n}\n\n.xr-var-list > li:nth-child(odd) > div,\n.xr-var-list > li:nth-child(odd) > label,\n.xr-var-list > li:nth-child(odd) > .xr-var-name span {\n  background-color: var(--xr-background-color-row-odd);\n}\n\n.xr-var-name {\n  grid-column: 1;\n}\n\n.xr-var-dims {\n  grid-column: 2;\n}\n\n.xr-var-dtype {\n  grid-column: 3;\n  text-align: right;\n  color: var(--xr-font-color2);\n}\n\n.xr-var-preview {\n  grid-column: 4;\n}\n\n.xr-var-name,\n.xr-var-dims,\n.xr-var-dtype,\n.xr-preview,\n.xr-attrs dt {\n  white-space: nowrap;\n  overflow: hidden;\n  text-overflow: ellipsis;\n  padding-right: 10px;\n}\n\n.xr-var-name:hover,\n.xr-var-dims:hover,\n.xr-var-dtype:hover,\n.xr-attrs dt:hover {\n  overflow: visible;\n  width: auto;\n  z-index: 1;\n}\n\n.xr-var-attrs,\n.xr-var-data {\n  display: none;\n  background-color: var(--xr-background-color) !important;\n  padding-bottom: 5px !important;\n}\n\n.xr-var-attrs-in:checked ~ .xr-var-attrs,\n.xr-var-data-in:checked ~ .xr-var-data {\n  display: block;\n}\n\n.xr-var-data > table {\n  float: right;\n}\n\n.xr-var-name span,\n.xr-var-data,\n.xr-attrs {\n  padding-left: 25px !important;\n}\n\n.xr-attrs,\n.xr-var-attrs,\n.xr-var-data {\n  grid-column: 1 / -1;\n}\n\ndl.xr-attrs {\n  padding: 0;\n  margin: 0;\n  display: grid;\n  grid-template-columns: 125px auto;\n}\n\n.xr-attrs dt, dd {\n  padding: 0;\n  margin: 0;\n  float: left;\n  padding-right: 10px;\n  width: auto;\n}\n\n.xr-attrs dt {\n  font-weight: normal;\n  grid-column: 1;\n}\n\n.xr-attrs dt:hover span {\n  display: inline-block;\n  background: var(--xr-background-color);\n  padding-right: 10px;\n}\n\n.xr-attrs dd {\n  grid-column: 2;\n  white-space: pre-wrap;\n  word-break: break-all;\n}\n\n.xr-icon-database,\n.xr-icon-file-text2 {\n  display: inline-block;\n  vertical-align: middle;\n  width: 1em;\n  height: 1.5em !important;\n  stroke-width: 0;\n  stroke: currentColor;\n  fill: currentColor;\n}\n</style><pre class='xr-text-repr-fallback'>&lt;xarray.DataArray (topic_i: 20, topic_j: 20)&gt;\narray([[ 2.02991691e+02, -7.86070837e+01, -9.74930849e-01,\n         1.09942949e+02,  6.13820703e+01, -3.36417012e+01,\n        -3.05613075e+01, -1.97562795e+01, -3.28710092e+01,\n        -2.57853007e+01, -2.42931132e+01, -4.42808832e+01,\n        -4.51593134e+01, -2.85784810e+01, -3.41619960e+01,\n        -1.97989499e+01,  4.65159257e+01,  8.44716575e+00,\n         2.33645420e+01, -3.41739949e+01],\n       [-7.86070837e+01,  6.26173869e+02, -4.31400667e+01,\n        -7.87130244e+01, -5.72440272e+01, -5.75116609e+01,\n        -5.32443478e+01, -2.74065069e+00,  2.17895968e+01,\n        -4.83165352e+01, -4.76299688e+01, -5.64543764e+01,\n        -7.72162786e+01, -4.99252804e+01, -5.75294990e+01,\n         2.02715600e+00, -3.11667296e+01,  8.84243160e+01,\n        -5.00066782e+01,  5.10312698e+01],\n       [-9.74930849e-01, -4.31400667e+01,  1.26055380e+02,\n         1.87858729e-01,  7.25316485e-01,  6.77225737e+00,\n        -8.39593529e+00, -2.38421187e+00, -1.53227851e+01,\n         2.77315565e+00,  1.08458486e+01, -1.72747670e+01,\n        -2.36792205e+01, -9.73460619e+00, -9.85646977e+00,\n         1.25617646e+01, -9.65344341e+00, -8.29941025e+00,\n...\n         1.49363068e+01, -2.74723811e-02, -2.40077936e+01,\n        -2.62905898e+01, -1.73273766e+01, -5.10292122e-01,\n        -2.00451668e+01, -2.11655102e+01, -1.83862703e+01,\n        -1.69578312e+01, -2.37441485e+01, -2.83994996e+01,\n        -3.07888681e+00,  1.32925719e+01,  9.69767999e+01,\n        -8.77455377e+00, -5.06235847e+00],\n       [ 2.33645420e+01, -5.00066782e+01,  7.29452390e+00,\n         3.56239685e+01,  1.86413737e+01,  1.97275277e+00,\n        -1.01476242e+01,  8.91642731e-01, -2.31612556e+01,\n        -7.56943939e+00,  4.44249614e-01, -7.36817903e+00,\n        -1.02261560e+01, -2.55195251e+00, -5.78194205e+00,\n        -9.31344500e+00,  1.76109169e+01, -8.77455377e+00,\n         4.46453829e+01, -1.55881272e+01],\n       [-3.41739949e+01,  5.10312698e+01, -1.85002580e+01,\n        -4.72391219e+01, -3.96311950e+01,  9.80850373e+00,\n        -5.54753205e+00,  6.03046258e+00,  2.55094865e+01,\n        -1.88775472e+01, -1.70830958e+01,  2.00757837e+01,\n         6.38719002e-01, -1.56555891e+01,  1.13997245e+00,\n         1.40490736e+01, -3.43228145e+01, -5.06235847e+00,\n        -1.55881272e+01,  1.23398363e+02]])\nCoordinates:\n  * topic_i  (topic_i) int32 0 1 2 3 4 5 6 7 8 9 10 11 12 13 14 15 16 17 18 19\n  * topic_j  (topic_j) int32 0 1 2 3 4 5 6 7 8 9 10 11 12 13 14 15 16 17 18 19</pre><div class='xr-wrap' hidden><div class='xr-header'><div class='xr-obj-type'>xarray.DataArray</div><div class='xr-array-name'></div><ul class='xr-dim-list'><li><span class='xr-has-index'>topic_i</span>: 20</li><li><span class='xr-has-index'>topic_j</span>: 20</li></ul></div><ul class='xr-sections'><li class='xr-section-item'><div class='xr-array-wrap'><input id='section-2a030448-72fe-4e18-8892-87d6f6c592be' class='xr-array-in' type='checkbox' checked><label for='section-2a030448-72fe-4e18-8892-87d6f6c592be' title='Show/hide data repr'><svg class='icon xr-icon-database'><use xlink:href='#icon-database'></use></svg></label><div class='xr-array-preview xr-preview'><span>203.0 -78.61 -0.9749 109.9 61.38 ... 14.05 -34.32 -5.062 -15.59 123.4</span></div><div class='xr-array-data'><pre>array([[ 2.02991691e+02, -7.86070837e+01, -9.74930849e-01,\n         1.09942949e+02,  6.13820703e+01, -3.36417012e+01,\n        -3.05613075e+01, -1.97562795e+01, -3.28710092e+01,\n        -2.57853007e+01, -2.42931132e+01, -4.42808832e+01,\n        -4.51593134e+01, -2.85784810e+01, -3.41619960e+01,\n        -1.97989499e+01,  4.65159257e+01,  8.44716575e+00,\n         2.33645420e+01, -3.41739949e+01],\n       [-7.86070837e+01,  6.26173869e+02, -4.31400667e+01,\n        -7.87130244e+01, -5.72440272e+01, -5.75116609e+01,\n        -5.32443478e+01, -2.74065069e+00,  2.17895968e+01,\n        -4.83165352e+01, -4.76299688e+01, -5.64543764e+01,\n        -7.72162786e+01, -4.99252804e+01, -5.75294990e+01,\n         2.02715600e+00, -3.11667296e+01,  8.84243160e+01,\n        -5.00066782e+01,  5.10312698e+01],\n       [-9.74930849e-01, -4.31400667e+01,  1.26055380e+02,\n         1.87858729e-01,  7.25316485e-01,  6.77225737e+00,\n        -8.39593529e+00, -2.38421187e+00, -1.53227851e+01,\n         2.77315565e+00,  1.08458486e+01, -1.72747670e+01,\n        -2.36792205e+01, -9.73460619e+00, -9.85646977e+00,\n         1.25617646e+01, -9.65344341e+00, -8.29941025e+00,\n...\n         1.49363068e+01, -2.74723811e-02, -2.40077936e+01,\n        -2.62905898e+01, -1.73273766e+01, -5.10292122e-01,\n        -2.00451668e+01, -2.11655102e+01, -1.83862703e+01,\n        -1.69578312e+01, -2.37441485e+01, -2.83994996e+01,\n        -3.07888681e+00,  1.32925719e+01,  9.69767999e+01,\n        -8.77455377e+00, -5.06235847e+00],\n       [ 2.33645420e+01, -5.00066782e+01,  7.29452390e+00,\n         3.56239685e+01,  1.86413737e+01,  1.97275277e+00,\n        -1.01476242e+01,  8.91642731e-01, -2.31612556e+01,\n        -7.56943939e+00,  4.44249614e-01, -7.36817903e+00,\n        -1.02261560e+01, -2.55195251e+00, -5.78194205e+00,\n        -9.31344500e+00,  1.76109169e+01, -8.77455377e+00,\n         4.46453829e+01, -1.55881272e+01],\n       [-3.41739949e+01,  5.10312698e+01, -1.85002580e+01,\n        -4.72391219e+01, -3.96311950e+01,  9.80850373e+00,\n        -5.54753205e+00,  6.03046258e+00,  2.55094865e+01,\n        -1.88775472e+01, -1.70830958e+01,  2.00757837e+01,\n         6.38719002e-01, -1.56555891e+01,  1.13997245e+00,\n         1.40490736e+01, -3.43228145e+01, -5.06235847e+00,\n        -1.55881272e+01,  1.23398363e+02]])</pre></div></div></li><li class='xr-section-item'><input id='section-d989e8df-9770-417c-be99-f47b4ada0c9c' class='xr-section-summary-in' type='checkbox'  checked><label for='section-d989e8df-9770-417c-be99-f47b4ada0c9c' class='xr-section-summary' >Coordinates: <span>(2)</span></label><div class='xr-section-inline-details'></div><div class='xr-section-details'><ul class='xr-var-list'><li class='xr-var-item'><div class='xr-var-name'><span class='xr-has-index'>topic_i</span></div><div class='xr-var-dims'>(topic_i)</div><div class='xr-var-dtype'>int32</div><div class='xr-var-preview xr-preview'>0 1 2 3 4 5 6 ... 14 15 16 17 18 19</div><input id='attrs-f19b6af0-c739-4e54-9470-6a973f091139' class='xr-var-attrs-in' type='checkbox' disabled><label for='attrs-f19b6af0-c739-4e54-9470-6a973f091139' title='Show/Hide attributes'><svg class='icon xr-icon-file-text2'><use xlink:href='#icon-file-text2'></use></svg></label><input id='data-b3a327a4-8103-46b9-b299-0eb7f5e01782' class='xr-var-data-in' type='checkbox'><label for='data-b3a327a4-8103-46b9-b299-0eb7f5e01782' title='Show/Hide data repr'><svg class='icon xr-icon-database'><use xlink:href='#icon-database'></use></svg></label><div class='xr-var-attrs'><dl class='xr-attrs'></dl></div><div class='xr-var-data'><pre>array([ 0,  1,  2,  3,  4,  5,  6,  7,  8,  9, 10, 11, 12, 13, 14, 15, 16, 17,\n       18, 19])</pre></div></li><li class='xr-var-item'><div class='xr-var-name'><span class='xr-has-index'>topic_j</span></div><div class='xr-var-dims'>(topic_j)</div><div class='xr-var-dtype'>int32</div><div class='xr-var-preview xr-preview'>0 1 2 3 4 5 6 ... 14 15 16 17 18 19</div><input id='attrs-eb580634-dfd6-46a0-8820-48d7d8f8618c' class='xr-var-attrs-in' type='checkbox' disabled><label for='attrs-eb580634-dfd6-46a0-8820-48d7d8f8618c' title='Show/Hide attributes'><svg class='icon xr-icon-file-text2'><use xlink:href='#icon-file-text2'></use></svg></label><input id='data-8a547e60-03b1-4b61-a299-1d771693ace7' class='xr-var-data-in' type='checkbox'><label for='data-8a547e60-03b1-4b61-a299-1d771693ace7' title='Show/Hide data repr'><svg class='icon xr-icon-database'><use xlink:href='#icon-database'></use></svg></label><div class='xr-var-attrs'><dl class='xr-attrs'></dl></div><div class='xr-var-data'><pre>array([ 0,  1,  2,  3,  4,  5,  6,  7,  8,  9, 10, 11, 12, 13, 14, 15, 16, 17,\n       18, 19])</pre></div></li></ul></div></li><li class='xr-section-item'><input id='section-b6c8ff44-1edd-4b3c-95cb-d56b819a9971' class='xr-section-summary-in' type='checkbox' disabled ><label for='section-b6c8ff44-1edd-4b3c-95cb-d56b819a9971' class='xr-section-summary'  title='Expand/collapse section'>Attributes: <span>(0)</span></label><div class='xr-section-inline-details'></div><div class='xr-section-details'><dl class='xr-attrs'></dl></div></li></ul></div></div>",
      "text/plain": "<xarray.DataArray (topic_i: 20, topic_j: 20)>\narray([[ 2.02991691e+02, -7.86070837e+01, -9.74930849e-01,\n         1.09942949e+02,  6.13820703e+01, -3.36417012e+01,\n        -3.05613075e+01, -1.97562795e+01, -3.28710092e+01,\n        -2.57853007e+01, -2.42931132e+01, -4.42808832e+01,\n        -4.51593134e+01, -2.85784810e+01, -3.41619960e+01,\n        -1.97989499e+01,  4.65159257e+01,  8.44716575e+00,\n         2.33645420e+01, -3.41739949e+01],\n       [-7.86070837e+01,  6.26173869e+02, -4.31400667e+01,\n        -7.87130244e+01, -5.72440272e+01, -5.75116609e+01,\n        -5.32443478e+01, -2.74065069e+00,  2.17895968e+01,\n        -4.83165352e+01, -4.76299688e+01, -5.64543764e+01,\n        -7.72162786e+01, -4.99252804e+01, -5.75294990e+01,\n         2.02715600e+00, -3.11667296e+01,  8.84243160e+01,\n        -5.00066782e+01,  5.10312698e+01],\n       [-9.74930849e-01, -4.31400667e+01,  1.26055380e+02,\n         1.87858729e-01,  7.25316485e-01,  6.77225737e+00,\n        -8.39593529e+00, -2.38421187e+00, -1.53227851e+01,\n         2.77315565e+00,  1.08458486e+01, -1.72747670e+01,\n        -2.36792205e+01, -9.73460619e+00, -9.85646977e+00,\n         1.25617646e+01, -9.65344341e+00, -8.29941025e+00,\n...\n         1.49363068e+01, -2.74723811e-02, -2.40077936e+01,\n        -2.62905898e+01, -1.73273766e+01, -5.10292122e-01,\n        -2.00451668e+01, -2.11655102e+01, -1.83862703e+01,\n        -1.69578312e+01, -2.37441485e+01, -2.83994996e+01,\n        -3.07888681e+00,  1.32925719e+01,  9.69767999e+01,\n        -8.77455377e+00, -5.06235847e+00],\n       [ 2.33645420e+01, -5.00066782e+01,  7.29452390e+00,\n         3.56239685e+01,  1.86413737e+01,  1.97275277e+00,\n        -1.01476242e+01,  8.91642731e-01, -2.31612556e+01,\n        -7.56943939e+00,  4.44249614e-01, -7.36817903e+00,\n        -1.02261560e+01, -2.55195251e+00, -5.78194205e+00,\n        -9.31344500e+00,  1.76109169e+01, -8.77455377e+00,\n         4.46453829e+01, -1.55881272e+01],\n       [-3.41739949e+01,  5.10312698e+01, -1.85002580e+01,\n        -4.72391219e+01, -3.96311950e+01,  9.80850373e+00,\n        -5.54753205e+00,  6.03046258e+00,  2.55094865e+01,\n        -1.88775472e+01, -1.70830958e+01,  2.00757837e+01,\n         6.38719002e-01, -1.56555891e+01,  1.13997245e+00,\n         1.40490736e+01, -3.43228145e+01, -5.06235847e+00,\n        -1.55881272e+01,  1.23398363e+02]])\nCoordinates:\n  * topic_i  (topic_i) int32 0 1 2 3 4 5 6 7 8 9 10 11 12 13 14 15 16 17 18 19\n  * topic_j  (topic_j) int32 0 1 2 3 4 5 6 7 8 9 10 11 12 13 14 15 16 17 18 19"
     },
     "execution_count": 93,
     "metadata": {},
     "output_type": "execute_result"
    }
   ],
   "source": [
    "from nlp_utils import gensim_utils\r\n",
    "\r\n",
    "sigma = gensim_utils.calc_cov(gamma_di_sub.values)\r\n",
    "\r\n",
    "da_sigma = xr.DataArray(sigma, coords = {'topic_i': range(n_topics), 'topic_j': range(n_topics)}, dims = ['topic_i', 'topic_j'])\r\n",
    "\r\n",
    "da_sigma"
   ]
  },
  {
   "cell_type": "code",
   "execution_count": 94,
   "metadata": {},
   "outputs": [
    {
     "name": "stdout",
     "output_type": "stream",
     "text": [
      "Writing graph to disk\n"
     ]
    }
   ],
   "source": [
    "import networkx as nx \r\n",
    "G = nx.Graph() \r\n",
    "\r\n",
    "for topic_i in da_sigma.coords['topic_i'].values:\r\n",
    "    for topic_j in da_sigma.coords['topic_j'].values:\r\n",
    "        weight = da_sigma.sel(topic_i=topic_i, topic_j=topic_j).item()\r\n",
    "        if  weight > 0.1: \r\n",
    "            if topic_i != topic_j:\r\n",
    "                G.add_edge(topic_i,topic_j, weight=weight)\r\n",
    "\r\n",
    "# topic_keywords = df_topickeywords[df_topickeywords.columns[0:6]].apply(\", \".join, axis= 1)\r\n",
    "topic_keywords = df['topic words']\r\n",
    "\r\n",
    "for node in G.nodes:\r\n",
    "    G.nodes[node]['disp_text'] = topic_keywords[node].replace(',', '\\n')\r\n",
    "    G.nodes[node]['size'] = 20\r\n",
    "\r\n",
    "#%%\r\n",
    "\r\n",
    "print('Writing graph to disk')\r\n",
    "\r\n",
    "nx.write_gexf(G, 'output/G.gexf')"
   ]
  },
  {
   "cell_type": "code",
   "execution_count": null,
   "metadata": {},
   "outputs": [],
   "source": []
  },
  {
   "cell_type": "code",
   "execution_count": null,
   "metadata": {},
   "outputs": [],
   "source": []
  }
 ],
 "metadata": {
  "kernelspec": {
   "display_name": "Python 3.7.7 64-bit ('nlp_scraping': conda)",
   "metadata": {
    "interpreter": {
     "hash": "cc714288f45530504327052ee12a414eab08e6759a824ca9f3cc4455d4d09831"
    }
   },
   "name": "python3"
  },
  "language_info": {
   "codemirror_mode": {
    "name": "ipython",
    "version": 3
   },
   "file_extension": ".py",
   "mimetype": "text/x-python",
   "name": "python",
   "nbconvert_exporter": "python",
   "pygments_lexer": "ipython3",
   "version": "3.7.7"
  },
  "orig_nbformat": 2
 },
 "nbformat": 4,
 "nbformat_minor": 2
}