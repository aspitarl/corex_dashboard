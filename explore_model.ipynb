{
 "cells": [
  {
   "cell_type": "code",
   "execution_count": 102,
   "metadata": {},
   "outputs": [],
   "source": [
    "import pandas as pd\r\n",
    "import xarray as xr\r\n",
    "import _pickle as cPickle\r\n",
    "\r\n",
    "metadata = pd.read_csv('data/metadata.csv', index_col=0)\r\n",
    "\r\n",
    "topic_model = cPickle.load(open('data/topic_model.pkl', 'rb'))\r\n",
    "s_anchor = pd.read_csv('data/s_anchor.csv', index_col=0)['anchor words']\r\n",
    "\r\n",
    "with open('data/feature_names.txt', 'r', encoding='utf-8') as f:\r\n",
    "    feature_names = [feat.rstrip() for feat in f.readlines()]"
   ]
  },
  {
   "cell_type": "code",
   "execution_count": 45,
   "metadata": {},
   "outputs": [],
   "source": [
    "\r\n",
    "\r\n",
    "doc_topic_prob = topic_model.p_y_given_x\r\n",
    "\r\n",
    "n_topics = doc_topic_prob.shape[1]\r\n",
    "n_docs = doc_topic_prob.shape[0]\r\n",
    "\r\n",
    "topic_names = s_anchor.index.values\r\n",
    "doc_names = metadata.index.values\r\n",
    "\r\n",
    "\r\n",
    "da_doc_topic = xr.DataArray(doc_topic_prob, coords= {'topic': topic_names, 'doc' : doc_names}, dims = ['doc', 'topic'])"
   ]
  },
  {
   "cell_type": "code",
   "execution_count": 68,
   "metadata": {},
   "outputs": [
    {
     "data": {
      "text/plain": "topic\ntopic_0     [19355, 19359, 19360, 19363, 13461, 19367, 193...\ntopic_1     [14865, 14874, 14876, 14878, 14888, 14890, 148...\ntopic_2     [19360, 19363, 5, 24044, 17, 34, 7094, 19410, ...\ntopic_3     [19355, 19360, 19363, 13461, 19367, 19370, 193...\ntopic_4     [19355, 13461, 8, 19380, 19386, 19405, 19406, ...\ntopic_5     [24044, 22, 19386, 31, 7094, 24049, 58, 24051,...\ntopic_6     [24044, 9264, 9268, 24054, 9270, 24063, 9277, ...\ntopic_7     [24044, 22, 31, 58, 84, 24054, 9270, 7105, 240...\ntopic_8     [24044, 19410, 19436, 19441, 19447, 11748, 195...\ntopic_9     [24044, 21, 19390, 7094, 58, 7098, 19465, 7100...\ntopic_10    [19355, 19367, 21, 19390, 19405, 19406, 13469,...\ntopic_11      [9264, 39, 54, 68, 72, 93, 103, 116, 9276, 128]\ntopic_12                 [0, 3, 5, 8, 16, 37, 41, 48, 54, 70]\ntopic_13    [39, 82, 7100, 103, 110, 116, 131, 145, 208, 8...\ntopic_14        [22, 31, 34, 48, 54, 58, 114, 117, 7109, 153]\ntopic_15    [9264, 19453, 93, 9270, 7105, 103, 13488, 130,...\ntopic_16    [14865, 53, 7099, 93, 103, 110, 19524, 182, 22...\ntopic_17    [13461, 5, 19370, 24049, 19436, 58, 19441, 194...\ntopic_18    [19360, 19381, 21, 19390, 19405, 19406, 14865,...\ntopic_19    [19363, 7094, 19434, 53, 54, 19439, 72, 7100, ...\ndtype: object"
     },
     "execution_count": 68,
     "metadata": {},
     "output_type": "execute_result"
    }
   ],
   "source": [
    "def get_aligned_docs(da_doc_topic, prob, num=10):\r\n",
    "    \"\"\"Returns docs with max probability for given topic sorted by MA probability. Seems many documents have the same 99.999% topic probability so downselecting with MA\"\"\" \r\n",
    "\r\n",
    "    aligned_docs = []\r\n",
    "    for topic in da_doc_topic.coords['topic']:\r\n",
    "        s = da_doc_topic.sel(topic=topic).to_series()\r\n",
    "        docs = s.sort_values(ascending=False)\r\n",
    "        docs = docs.where(docs == docs.iloc[0]).dropna()\r\n",
    "\r\n",
    "        probs = prob[docs.index]\r\n",
    "        probs = probs.sort_values(ascending=False)\r\n",
    "        top_probs = probs[0:num]\r\n",
    "\r\n",
    "        aligned_docs.append(list(top_probs.index.values))\r\n",
    "\r\n",
    "    aligned_docs = pd.Series(aligned_docs, index = da_doc_topic.coords['topic'])\r\n",
    "\r\n",
    "    return aligned_docs\r\n",
    "aligned_docs = get_aligned_docs(da_doc_topic, metadata['prob'])\r\n",
    "aligned_docs\r\n",
    "# metadata['title'][docs.index]"
   ]
  },
  {
   "cell_type": "code",
   "execution_count": 71,
   "metadata": {},
   "outputs": [
    {
     "data": {
      "text/html": "<div>\n<style scoped>\n    .dataframe tbody tr th:only-of-type {\n        vertical-align: middle;\n    }\n\n    .dataframe tbody tr th {\n        vertical-align: top;\n    }\n\n    .dataframe thead th {\n        text-align: right;\n    }\n</style>\n<table border=\"1\" class=\"dataframe\">\n  <thead>\n    <tr style=\"text-align: right;\">\n      <th></th>\n      <th>title</th>\n      <th>display_text</th>\n      <th>prob</th>\n    </tr>\n    <tr>\n      <th>ID</th>\n      <th></th>\n      <th></th>\n      <th></th>\n    </tr>\n  </thead>\n  <tbody>\n    <tr>\n      <th>24044</th>\n      <td>electrical energy storage systems a comparativ...</td>\n      <td>&lt;a href=https://econpapers.repec.org/RePEc:ee...</td>\n      <td>5.667118e-08</td>\n    </tr>\n    <tr>\n      <th>19410</th>\n      <td>a review on electrochemical double layer capac...</td>\n      <td>&lt;a href=https://www.infona.pl/resource/bwmeta...</td>\n      <td>2.446555e-08</td>\n    </tr>\n    <tr>\n      <th>19436</th>\n      <td>design and new control of dc dc converters to ...</td>\n      <td>&lt;a href=https://dblp.uni-trier.de/db/journals...</td>\n      <td>1.957525e-08</td>\n    </tr>\n    <tr>\n      <th>19441</th>\n      <td>everlast long life supercapacitor operated wir...</td>\n      <td>&lt;a href=http://ieeexplore.ieee.org/xpls/abs_a...</td>\n      <td>1.869518e-08</td>\n    </tr>\n    <tr>\n      <th>19447</th>\n      <td>zero current switching switched capacitor zero...</td>\n      <td>&lt;a href=http://ira.lib.polyu.edu.hk/handle/10...</td>\n      <td>1.796213e-08</td>\n    </tr>\n    <tr>\n      <th>11748</th>\n      <td>flywheel batteries come around again</td>\n      <td>&lt;a href=https://ieeexplore.ieee.org/document/...</td>\n      <td>1.451621e-08</td>\n    </tr>\n    <tr>\n      <th>19588</th>\n      <td>a power electronic interface for a battery sup...</td>\n      <td>&lt;a href=http://yadda.icm.edu.pl/yadda/element...</td>\n      <td>1.084025e-08</td>\n    </tr>\n    <tr>\n      <th>24078</th>\n      <td>energy management in the decentralized generat...</td>\n      <td>&lt;a href=https://hal.archives-ouvertes.fr/hal-...</td>\n      <td>1.074312e-08</td>\n    </tr>\n    <tr>\n      <th>9282</th>\n      <td>bulk energy storage potential in the usa curre...</td>\n      <td>&lt;a href=https://www.sciencedirect.com/science...</td>\n      <td>1.067886e-08</td>\n    </tr>\n    <tr>\n      <th>19604</th>\n      <td>impact of distributed generations with energy ...</td>\n      <td>&lt;a href=http://yadda.icm.edu.pl/yadda/element...</td>\n      <td>1.041520e-08</td>\n    </tr>\n  </tbody>\n</table>\n</div>",
      "text/plain": "                                                   title  \\\nID                                                         \n24044  electrical energy storage systems a comparativ...   \n19410  a review on electrochemical double layer capac...   \n19436  design and new control of dc dc converters to ...   \n19441  everlast long life supercapacitor operated wir...   \n19447  zero current switching switched capacitor zero...   \n11748               flywheel batteries come around again   \n19588  a power electronic interface for a battery sup...   \n24078  energy management in the decentralized generat...   \n9282   bulk energy storage potential in the usa curre...   \n19604  impact of distributed generations with energy ...   \n\n                                            display_text          prob  \nID                                                                      \n24044   <a href=https://econpapers.repec.org/RePEc:ee...  5.667118e-08  \n19410   <a href=https://www.infona.pl/resource/bwmeta...  2.446555e-08  \n19436   <a href=https://dblp.uni-trier.de/db/journals...  1.957525e-08  \n19441   <a href=http://ieeexplore.ieee.org/xpls/abs_a...  1.869518e-08  \n19447   <a href=http://ira.lib.polyu.edu.hk/handle/10...  1.796213e-08  \n11748   <a href=https://ieeexplore.ieee.org/document/...  1.451621e-08  \n19588   <a href=http://yadda.icm.edu.pl/yadda/element...  1.084025e-08  \n24078   <a href=https://hal.archives-ouvertes.fr/hal-...  1.074312e-08  \n9282    <a href=https://www.sciencedirect.com/science...  1.067886e-08  \n19604   <a href=http://yadda.icm.edu.pl/yadda/element...  1.041520e-08  "
     },
     "execution_count": 71,
     "metadata": {},
     "output_type": "execute_result"
    }
   ],
   "source": [
    "l = aligned_docs['topic_8']\r\n",
    "\r\n",
    "metadata.loc[l]"
   ]
  },
  {
   "cell_type": "code",
   "execution_count": null,
   "metadata": {},
   "outputs": [],
   "source": []
  }
 ],
 "metadata": {
  "kernelspec": {
   "display_name": "Python 3.7.7 64-bit ('nlp_scraping': conda)",
   "metadata": {
    "interpreter": {
     "hash": "8140438c0cc7663ec08dd2ec505070f13afa6b8ed0b398ff537f42b7c1fbb214"
    }
   },
   "name": "python3"
  },
  "language_info": {
   "codemirror_mode": {
    "name": "ipython",
    "version": 3
   },
   "file_extension": ".py",
   "mimetype": "text/x-python",
   "name": "python",
   "nbconvert_exporter": "python",
   "pygments_lexer": "ipython3",
   "version": "3.7.7"
  },
  "orig_nbformat": 2
 },
 "nbformat": 4,
 "nbformat_minor": 2
}